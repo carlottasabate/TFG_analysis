{
 "cells": [
  {
   "cell_type": "code",
   "execution_count": 1,
   "metadata": {},
   "outputs": [],
   "source": [
    "import pandas as pd\n",
    "import numpy as np\n",
    "import os\n",
    "import seaborn as sns #grafics\n",
    "import matplotlib.pyplot as plt #grafics"
   ]
  },
  {
   "cell_type": "code",
   "execution_count": 2,
   "metadata": {},
   "outputs": [],
   "source": [
    "import warnings\n",
    "warnings.filterwarnings(\"ignore\")"
   ]
  },
  {
   "cell_type": "markdown",
   "metadata": {},
   "source": [
    "# BBDD"
   ]
  },
  {
   "cell_type": "code",
   "execution_count": 3,
   "metadata": {},
   "outputs": [
    {
     "data": {
      "text/html": [
       "<div>\n",
       "<style scoped>\n",
       "    .dataframe tbody tr th:only-of-type {\n",
       "        vertical-align: middle;\n",
       "    }\n",
       "\n",
       "    .dataframe tbody tr th {\n",
       "        vertical-align: top;\n",
       "    }\n",
       "\n",
       "    .dataframe thead th {\n",
       "        text-align: right;\n",
       "    }\n",
       "</style>\n",
       "<table border=\"1\" class=\"dataframe\">\n",
       "  <thead>\n",
       "    <tr style=\"text-align: right;\">\n",
       "      <th></th>\n",
       "      <th>group_dx</th>\n",
       "      <th>age</th>\n",
       "      <th>sex</th>\n",
       "      <th>years_schooling</th>\n",
       "      <th>educational_level</th>\n",
       "      <th>physical_exercise</th>\n",
       "      <th>socioeconomic_status</th>\n",
       "      <th>medical_psychiatric_history</th>\n",
       "      <th>weeks_sick_leave</th>\n",
       "      <th>current_sick_leave</th>\n",
       "      <th>...</th>\n",
       "      <th>ROCF_copy</th>\n",
       "      <th>ROCF_delayed</th>\n",
       "      <th>dig_symbol_sustitution</th>\n",
       "      <th>FLUENCY_phonemic</th>\n",
       "      <th>FLUENCY_semantic</th>\n",
       "      <th>WCST_categories</th>\n",
       "      <th>WCST_perseverative_error</th>\n",
       "      <th>BDNF</th>\n",
       "      <th>protein_carbonyl</th>\n",
       "      <th>glutathione</th>\n",
       "    </tr>\n",
       "  </thead>\n",
       "  <tbody>\n",
       "    <tr>\n",
       "      <th>0</th>\n",
       "      <td>1</td>\n",
       "      <td>61</td>\n",
       "      <td>2</td>\n",
       "      <td>12</td>\n",
       "      <td>3.0</td>\n",
       "      <td>0.0</td>\n",
       "      <td>0</td>\n",
       "      <td>1</td>\n",
       "      <td>0.0</td>\n",
       "      <td>0.0</td>\n",
       "      <td>...</td>\n",
       "      <td>29.0</td>\n",
       "      <td>5.0</td>\n",
       "      <td>56.0</td>\n",
       "      <td>45</td>\n",
       "      <td>25.0</td>\n",
       "      <td>2</td>\n",
       "      <td>46</td>\n",
       "      <td>1.865096</td>\n",
       "      <td>2.795876</td>\n",
       "      <td>2.605101</td>\n",
       "    </tr>\n",
       "    <tr>\n",
       "      <th>1</th>\n",
       "      <td>1</td>\n",
       "      <td>58</td>\n",
       "      <td>2</td>\n",
       "      <td>16</td>\n",
       "      <td>4.0</td>\n",
       "      <td>2.0</td>\n",
       "      <td>0</td>\n",
       "      <td>2</td>\n",
       "      <td>0.0</td>\n",
       "      <td>0.0</td>\n",
       "      <td>...</td>\n",
       "      <td>33.0</td>\n",
       "      <td>16.0</td>\n",
       "      <td>65.0</td>\n",
       "      <td>40</td>\n",
       "      <td>25.0</td>\n",
       "      <td>6</td>\n",
       "      <td>11</td>\n",
       "      <td>NaN</td>\n",
       "      <td>NaN</td>\n",
       "      <td>NaN</td>\n",
       "    </tr>\n",
       "    <tr>\n",
       "      <th>2</th>\n",
       "      <td>1</td>\n",
       "      <td>60</td>\n",
       "      <td>2</td>\n",
       "      <td>16</td>\n",
       "      <td>4.0</td>\n",
       "      <td>0.0</td>\n",
       "      <td>0</td>\n",
       "      <td>2</td>\n",
       "      <td>0.0</td>\n",
       "      <td>0.0</td>\n",
       "      <td>...</td>\n",
       "      <td>29.0</td>\n",
       "      <td>12.0</td>\n",
       "      <td>58.0</td>\n",
       "      <td>35</td>\n",
       "      <td>18.0</td>\n",
       "      <td>5</td>\n",
       "      <td>24</td>\n",
       "      <td>1.158458</td>\n",
       "      <td>2.358763</td>\n",
       "      <td>1.191607</td>\n",
       "    </tr>\n",
       "    <tr>\n",
       "      <th>3</th>\n",
       "      <td>1</td>\n",
       "      <td>60</td>\n",
       "      <td>2</td>\n",
       "      <td>10</td>\n",
       "      <td>2.0</td>\n",
       "      <td>0.0</td>\n",
       "      <td>0</td>\n",
       "      <td>2</td>\n",
       "      <td>4.0</td>\n",
       "      <td>0.0</td>\n",
       "      <td>...</td>\n",
       "      <td>23.0</td>\n",
       "      <td>8.0</td>\n",
       "      <td>39.0</td>\n",
       "      <td>29</td>\n",
       "      <td>17.0</td>\n",
       "      <td>2</td>\n",
       "      <td>44</td>\n",
       "      <td>1.179872</td>\n",
       "      <td>1.822680</td>\n",
       "      <td>2.290991</td>\n",
       "    </tr>\n",
       "    <tr>\n",
       "      <th>4</th>\n",
       "      <td>1</td>\n",
       "      <td>55</td>\n",
       "      <td>1</td>\n",
       "      <td>16</td>\n",
       "      <td>4.0</td>\n",
       "      <td>1.0</td>\n",
       "      <td>0</td>\n",
       "      <td>2</td>\n",
       "      <td>0.0</td>\n",
       "      <td>0.0</td>\n",
       "      <td>...</td>\n",
       "      <td>33.0</td>\n",
       "      <td>18.0</td>\n",
       "      <td>68.0</td>\n",
       "      <td>43</td>\n",
       "      <td>22.0</td>\n",
       "      <td>6</td>\n",
       "      <td>4</td>\n",
       "      <td>NaN</td>\n",
       "      <td>NaN</td>\n",
       "      <td>NaN</td>\n",
       "    </tr>\n",
       "    <tr>\n",
       "      <th>...</th>\n",
       "      <td>...</td>\n",
       "      <td>...</td>\n",
       "      <td>...</td>\n",
       "      <td>...</td>\n",
       "      <td>...</td>\n",
       "      <td>...</td>\n",
       "      <td>...</td>\n",
       "      <td>...</td>\n",
       "      <td>...</td>\n",
       "      <td>...</td>\n",
       "      <td>...</td>\n",
       "      <td>...</td>\n",
       "      <td>...</td>\n",
       "      <td>...</td>\n",
       "      <td>...</td>\n",
       "      <td>...</td>\n",
       "      <td>...</td>\n",
       "      <td>...</td>\n",
       "      <td>...</td>\n",
       "      <td>...</td>\n",
       "      <td>...</td>\n",
       "    </tr>\n",
       "    <tr>\n",
       "      <th>168</th>\n",
       "      <td>2</td>\n",
       "      <td>50</td>\n",
       "      <td>1</td>\n",
       "      <td>17</td>\n",
       "      <td>NaN</td>\n",
       "      <td>1.0</td>\n",
       "      <td>0</td>\n",
       "      <td>1</td>\n",
       "      <td>NaN</td>\n",
       "      <td>NaN</td>\n",
       "      <td>...</td>\n",
       "      <td>36.0</td>\n",
       "      <td>24.0</td>\n",
       "      <td>73.0</td>\n",
       "      <td>54</td>\n",
       "      <td>24.0</td>\n",
       "      <td>6</td>\n",
       "      <td>4</td>\n",
       "      <td>NaN</td>\n",
       "      <td>NaN</td>\n",
       "      <td>NaN</td>\n",
       "    </tr>\n",
       "    <tr>\n",
       "      <th>169</th>\n",
       "      <td>2</td>\n",
       "      <td>44</td>\n",
       "      <td>2</td>\n",
       "      <td>15</td>\n",
       "      <td>NaN</td>\n",
       "      <td>1.0</td>\n",
       "      <td>0</td>\n",
       "      <td>1</td>\n",
       "      <td>NaN</td>\n",
       "      <td>NaN</td>\n",
       "      <td>...</td>\n",
       "      <td>28.0</td>\n",
       "      <td>14.0</td>\n",
       "      <td>55.0</td>\n",
       "      <td>33</td>\n",
       "      <td>18.0</td>\n",
       "      <td>6</td>\n",
       "      <td>18</td>\n",
       "      <td>NaN</td>\n",
       "      <td>NaN</td>\n",
       "      <td>NaN</td>\n",
       "    </tr>\n",
       "    <tr>\n",
       "      <th>170</th>\n",
       "      <td>2</td>\n",
       "      <td>35</td>\n",
       "      <td>2</td>\n",
       "      <td>12</td>\n",
       "      <td>NaN</td>\n",
       "      <td>2.0</td>\n",
       "      <td>0</td>\n",
       "      <td>2</td>\n",
       "      <td>NaN</td>\n",
       "      <td>NaN</td>\n",
       "      <td>...</td>\n",
       "      <td>30.0</td>\n",
       "      <td>19.0</td>\n",
       "      <td>72.0</td>\n",
       "      <td>31</td>\n",
       "      <td>20.0</td>\n",
       "      <td>5</td>\n",
       "      <td>15</td>\n",
       "      <td>NaN</td>\n",
       "      <td>NaN</td>\n",
       "      <td>NaN</td>\n",
       "    </tr>\n",
       "    <tr>\n",
       "      <th>171</th>\n",
       "      <td>2</td>\n",
       "      <td>30</td>\n",
       "      <td>2</td>\n",
       "      <td>12</td>\n",
       "      <td>NaN</td>\n",
       "      <td>0.0</td>\n",
       "      <td>2</td>\n",
       "      <td>1</td>\n",
       "      <td>NaN</td>\n",
       "      <td>NaN</td>\n",
       "      <td>...</td>\n",
       "      <td>28.0</td>\n",
       "      <td>20.0</td>\n",
       "      <td>85.0</td>\n",
       "      <td>30</td>\n",
       "      <td>22.0</td>\n",
       "      <td>6</td>\n",
       "      <td>16</td>\n",
       "      <td>NaN</td>\n",
       "      <td>NaN</td>\n",
       "      <td>NaN</td>\n",
       "    </tr>\n",
       "    <tr>\n",
       "      <th>172</th>\n",
       "      <td>2</td>\n",
       "      <td>28</td>\n",
       "      <td>2</td>\n",
       "      <td>18</td>\n",
       "      <td>NaN</td>\n",
       "      <td>3.0</td>\n",
       "      <td>0</td>\n",
       "      <td>1</td>\n",
       "      <td>NaN</td>\n",
       "      <td>NaN</td>\n",
       "      <td>...</td>\n",
       "      <td>33.0</td>\n",
       "      <td>30.0</td>\n",
       "      <td>93.0</td>\n",
       "      <td>43</td>\n",
       "      <td>18.0</td>\n",
       "      <td>6</td>\n",
       "      <td>5</td>\n",
       "      <td>NaN</td>\n",
       "      <td>NaN</td>\n",
       "      <td>NaN</td>\n",
       "    </tr>\n",
       "  </tbody>\n",
       "</table>\n",
       "<p>173 rows × 49 columns</p>\n",
       "</div>"
      ],
      "text/plain": [
       "     group_dx  age  sex  years_schooling  educational_level  \\\n",
       "0           1   61    2               12                3.0   \n",
       "1           1   58    2               16                4.0   \n",
       "2           1   60    2               16                4.0   \n",
       "3           1   60    2               10                2.0   \n",
       "4           1   55    1               16                4.0   \n",
       "..        ...  ...  ...              ...                ...   \n",
       "168         2   50    1               17                NaN   \n",
       "169         2   44    2               15                NaN   \n",
       "170         2   35    2               12                NaN   \n",
       "171         2   30    2               12                NaN   \n",
       "172         2   28    2               18                NaN   \n",
       "\n",
       "     physical_exercise  socioeconomic_status  medical_psychiatric_history  \\\n",
       "0                  0.0                     0                            1   \n",
       "1                  2.0                     0                            2   \n",
       "2                  0.0                     0                            2   \n",
       "3                  0.0                     0                            2   \n",
       "4                  1.0                     0                            2   \n",
       "..                 ...                   ...                          ...   \n",
       "168                1.0                     0                            1   \n",
       "169                1.0                     0                            1   \n",
       "170                2.0                     0                            2   \n",
       "171                0.0                     2                            1   \n",
       "172                3.0                     0                            1   \n",
       "\n",
       "     weeks_sick_leave  current_sick_leave  ...  ROCF_copy  ROCF_delayed  \\\n",
       "0                 0.0                 0.0  ...       29.0           5.0   \n",
       "1                 0.0                 0.0  ...       33.0          16.0   \n",
       "2                 0.0                 0.0  ...       29.0          12.0   \n",
       "3                 4.0                 0.0  ...       23.0           8.0   \n",
       "4                 0.0                 0.0  ...       33.0          18.0   \n",
       "..                ...                 ...  ...        ...           ...   \n",
       "168               NaN                 NaN  ...       36.0          24.0   \n",
       "169               NaN                 NaN  ...       28.0          14.0   \n",
       "170               NaN                 NaN  ...       30.0          19.0   \n",
       "171               NaN                 NaN  ...       28.0          20.0   \n",
       "172               NaN                 NaN  ...       33.0          30.0   \n",
       "\n",
       "     dig_symbol_sustitution  FLUENCY_phonemic  FLUENCY_semantic  \\\n",
       "0                      56.0                45              25.0   \n",
       "1                      65.0                40              25.0   \n",
       "2                      58.0                35              18.0   \n",
       "3                      39.0                29              17.0   \n",
       "4                      68.0                43              22.0   \n",
       "..                      ...               ...               ...   \n",
       "168                    73.0                54              24.0   \n",
       "169                    55.0                33              18.0   \n",
       "170                    72.0                31              20.0   \n",
       "171                    85.0                30              22.0   \n",
       "172                    93.0                43              18.0   \n",
       "\n",
       "     WCST_categories  WCST_perseverative_error      BDNF  protein_carbonyl  \\\n",
       "0                  2                        46  1.865096          2.795876   \n",
       "1                  6                        11       NaN               NaN   \n",
       "2                  5                        24  1.158458          2.358763   \n",
       "3                  2                        44  1.179872          1.822680   \n",
       "4                  6                         4       NaN               NaN   \n",
       "..               ...                       ...       ...               ...   \n",
       "168                6                         4       NaN               NaN   \n",
       "169                6                        18       NaN               NaN   \n",
       "170                5                        15       NaN               NaN   \n",
       "171                6                        16       NaN               NaN   \n",
       "172                6                         5       NaN               NaN   \n",
       "\n",
       "     glutathione  \n",
       "0       2.605101  \n",
       "1            NaN  \n",
       "2       1.191607  \n",
       "3       2.290991  \n",
       "4            NaN  \n",
       "..           ...  \n",
       "168          NaN  \n",
       "169          NaN  \n",
       "170          NaN  \n",
       "171          NaN  \n",
       "172          NaN  \n",
       "\n",
       "[173 rows x 49 columns]"
      ]
     },
     "execution_count": 3,
     "metadata": {},
     "output_type": "execute_result"
    }
   ],
   "source": [
    "df=pd.read_csv(\"C:/Users/csc/Documents/GEA/4t-GEA/Practiques/DEFINITIUS_marcadors/datan_peris.csv\")\n",
    "df.drop([\"Unnamed: 0\"],axis=1,inplace=True) #borrem var index\n",
    "df"
   ]
  },
  {
   "cell_type": "markdown",
   "metadata": {},
   "source": [
    "## Obviem tests funcionals"
   ]
  },
  {
   "cell_type": "code",
   "execution_count": 4,
   "metadata": {},
   "outputs": [],
   "source": [
    "df_noclinic=df.drop([\"current_living_situation\",\"educational_level\",\"socioeconomic_status\" ,\"CRASH_total_education\",\"CRASH_total_occupation\",\"CRASH_total_intellectual_leisure\" ,\"TOTAL_CRASH\" ,\"WCST_categories\"], axis=1)"
   ]
  },
  {
   "cell_type": "markdown",
   "metadata": {},
   "source": [
    "# Pre-processing"
   ]
  },
  {
   "cell_type": "markdown",
   "metadata": {},
   "source": [
    "## Missings"
   ]
  },
  {
   "cell_type": "code",
   "execution_count": 5,
   "metadata": {},
   "outputs": [
    {
     "name": "stdout",
     "output_type": "stream",
     "text": [
      "count of NULL values before imputation\n",
      "\n"
     ]
    },
    {
     "data": {
      "text/plain": [
       "group_dx                        0\n",
       "age                             0\n",
       "sex                             0\n",
       "years_schooling                 0\n",
       "physical_exercise              12\n",
       "medical_psychiatric_history     0\n",
       "weeks_sick_leave               74\n",
       "current_sick_leave             72\n",
       "age_illness_onset              32\n",
       "depre_episodes                 32\n",
       "number_hospitalitzations       32\n",
       "clinical_stability             37\n",
       "history_psychotic_symp         32\n",
       "seasonal_pattern               33\n",
       "rapid_cycling                  32\n",
       "history_suicidal_ideation      32\n",
       "num_attempts                   46\n",
       "severity_attempt               67\n",
       "family_hist_psychiatric        46\n",
       "family_hist_suicide            72\n",
       "TOTAL_HDRS                      0\n",
       "TOTAL_FAST                      0\n",
       "T_vocab                         0\n",
       "block_design                   72\n",
       "CVLT_trial1                    27\n",
       "CVLT_trial5                     0\n",
       "CVLT_total                      0\n",
       "CVLT_delayed                    0\n",
       "DIGIT_forward                   0\n",
       "DIGIT_backward                  0\n",
       "TMTA_sec                        0\n",
       "TMTB_sec                        2\n",
       "ROCF_copy                       1\n",
       "ROCF_delayed                    1\n",
       "dig_symbol_sustitution         45\n",
       "FLUENCY_phonemic                0\n",
       "FLUENCY_semantic               26\n",
       "WCST_perseverative_error        0\n",
       "BDNF                           68\n",
       "protein_carbonyl               68\n",
       "glutathione                    68\n",
       "dtype: int64"
      ]
     },
     "execution_count": 5,
     "metadata": {},
     "output_type": "execute_result"
    }
   ],
   "source": [
    "print(\"count of NULL values before imputation\\n\")\n",
    "df_noclinic.isnull().sum()\n",
    "\n",
    "#majoria de NAs son dels bipolars"
   ]
  },
  {
   "cell_type": "markdown",
   "metadata": {},
   "source": [
    "### Obviem bipolars"
   ]
  },
  {
   "cell_type": "code",
   "execution_count": 6,
   "metadata": {},
   "outputs": [],
   "source": [
    "df_noclnob=df_noclinic[df_noclinic.group_dx.isin([1,0])]\n",
    "#print(\"count of NULL values before imputation without bipolars\\n\")\n",
    "#df_noclnob.isnull().sum()#observem missings sense BIPOLARS"
   ]
  },
  {
   "cell_type": "markdown",
   "metadata": {},
   "source": [
    "### Eliminem les 2 variables cognitives "
   ]
  },
  {
   "cell_type": "code",
   "execution_count": 7,
   "metadata": {},
   "outputs": [],
   "source": [
    "#eliminarem DIG_SYMBOL_SUBSTITUTION i BLOCK_DESIGN\n",
    "\n",
    "df_noclbb=df_noclnob.drop([\"dig_symbol_sustitution\",\"block_design\"], axis=1)"
   ]
  },
  {
   "cell_type": "markdown",
   "metadata": {},
   "source": [
    "## Escala logaritmica glutathione"
   ]
  },
  {
   "cell_type": "code",
   "execution_count": 8,
   "metadata": {},
   "outputs": [
    {
     "data": {
      "text/plain": [
       "<AxesSubplot:xlabel='glutathione', ylabel='Count'>"
      ]
     },
     "execution_count": 8,
     "metadata": {},
     "output_type": "execute_result"
    },
    {
     "data": {
      "image/png": "[encoded data removed]",
      "text/plain": [
       "<Figure size 432x288 with 1 Axes>"
      ]
     },
     "metadata": {
      "needs_background": "light"
     },
     "output_type": "display_data"
    }
   ],
   "source": [
    "sns.histplot(df_noclbb[\"glutathione\"])"
   ]
  },
  {
   "cell_type": "code",
   "execution_count": 9,
   "metadata": {},
   "outputs": [],
   "source": [
    "#passarem a escala logaritmica el glutathione\n",
    "import math\n",
    "df_noclbb.glutathione=np.log10(df_noclbb.glutathione)\n",
    "#df_noclbb"
   ]
  },
  {
   "cell_type": "code",
   "execution_count": 10,
   "metadata": {},
   "outputs": [
    {
     "data": {
      "text/plain": [
       "<AxesSubplot:xlabel='glutathione', ylabel='Count'>"
      ]
     },
     "execution_count": 10,
     "metadata": {},
     "output_type": "execute_result"
    },
    {
     "data": {
      "image/png": "[encoded data removed]",
      "text/plain": [
       "<Figure size 432x288 with 1 Axes>"
      ]
     },
     "metadata": {
      "needs_background": "light"
     },
     "output_type": "display_data"
    }
   ],
   "source": [
    "sns.histplot(df_noclbb[\"glutathione\"])"
   ]
  },
  {
   "cell_type": "code",
   "execution_count": 11,
   "metadata": {},
   "outputs": [
    {
     "data": {
      "text/plain": [
       "<AxesSubplot:xlabel='group_dx', ylabel='glutathione'>"
      ]
     },
     "execution_count": 11,
     "metadata": {},
     "output_type": "execute_result"
    },
    {
     "data": {
      "image/png": "[encoded data removed]",
      "text/plain": [
       "<Figure size 432x288 with 1 Axes>"
      ]
     },
     "metadata": {
      "needs_background": "light"
     },
     "output_type": "display_data"
    }
   ],
   "source": [
    "#sns.distplot(df_noclbb[\"glutathione\"])\n",
    "sns.boxplot(x=\"group_dx\",y=\"glutathione\",data=df_noclbb)"
   ]
  },
  {
   "cell_type": "markdown",
   "metadata": {},
   "source": [
    "## Codifiquem la variable resposta\n",
    "\n",
    "**Es classifica els pacients que tenen una Hamilton més elevada de 7 en remissió parcial, i la resta (HAM-D <7) en remissió clínica. Els controls s'agrupen en una tercera categoria.**"
   ]
  },
  {
   "cell_type": "code",
   "execution_count": 11,
   "metadata": {},
   "outputs": [],
   "source": [
    "df_noclbb[\"hdrs_cod\"]=0"
   ]
  },
  {
   "cell_type": "code",
   "execution_count": 12,
   "metadata": {},
   "outputs": [],
   "source": [
    "df_noclbb.hdrs_cod.loc[df_noclbb.TOTAL_HDRS>7]=2\n",
    "df_noclbb.hdrs_cod.loc[df_noclbb.TOTAL_HDRS<=7]=1\n",
    "df_noclbb.hdrs_cod.loc[df_noclbb.group_dx==0]=0"
   ]
  },
  {
   "cell_type": "code",
   "execution_count": 13,
   "metadata": {},
   "outputs": [],
   "source": [
    "dictia={0:\"control\", 1:\"rem.clinica\", 2:\"rem.parcial\"}\n",
    "\n",
    "dictib={\"control\":0, \"rem.clinica\":1, \"rem.parcial\":2}\n",
    "#dict\n",
    "df_noclbb.hdrs_cod = df_noclbb[\"hdrs_cod\"].map(dictia)#.astype(\"category\")"
   ]
  },
  {
   "cell_type": "code",
   "execution_count": 14,
   "metadata": {},
   "outputs": [
    {
     "data": {
      "text/plain": [
       "0      rem.clinica\n",
       "1      rem.parcial\n",
       "2      rem.clinica\n",
       "3      rem.parcial\n",
       "4      rem.clinica\n",
       "          ...     \n",
       "128        control\n",
       "129        control\n",
       "130        control\n",
       "131        control\n",
       "132        control\n",
       "Name: hdrs_cod, Length: 121, dtype: object"
      ]
     },
     "execution_count": 14,
     "metadata": {},
     "output_type": "execute_result"
    }
   ],
   "source": [
    "df_noclbb[\"hdrs_cod\"]"
   ]
  },
  {
   "cell_type": "markdown",
   "metadata": {},
   "source": [
    "#### Fem dummies les variables categòriques *sex*, *medical_psychiatric_history* "
   ]
  },
  {
   "cell_type": "code",
   "execution_count": 15,
   "metadata": {},
   "outputs": [],
   "source": [
    "sx={1:0, 2:1} #male - female\n",
    "df_noclbb.sex = df_noclbb[\"sex\"].map(sx)#.astype(\"category\")"
   ]
  },
  {
   "cell_type": "code",
   "execution_count": 16,
   "metadata": {},
   "outputs": [
    {
     "data": {
      "text/plain": [
       "0      1\n",
       "1      0\n",
       "2      0\n",
       "3      0\n",
       "4      0\n",
       "      ..\n",
       "128    0\n",
       "129    1\n",
       "130    0\n",
       "131    0\n",
       "132    1\n",
       "Name: medical_psychiatric_history, Length: 121, dtype: int64"
      ]
     },
     "execution_count": 16,
     "metadata": {},
     "output_type": "execute_result"
    }
   ],
   "source": [
    "med={2:0, 1:1} #no - yes\n",
    "df_noclbb.medical_psychiatric_history = df_noclbb[\"medical_psychiatric_history\"].map(med)#.astype(\"category\")\n",
    "\n",
    "df_noclbb[\"medical_psychiatric_history\"]"
   ]
  },
  {
   "cell_type": "markdown",
   "metadata": {},
   "source": [
    "## Separem output i input\n",
    "**Evitem \"manipulació\" a l'hora d'imputar els casos: que no es vegin afectades per la variable output grup**\n",
    "- Prescindim de la variable FAST per la gran correlació que presenta amb la variable resposta"
   ]
  },
  {
   "cell_type": "code",
   "execution_count": 17,
   "metadata": {},
   "outputs": [
    {
     "data": {
      "text/plain": [
       "(array(['control', 'rem.clinica', 'rem.parcial'], dtype=object),\n",
       " array([32, 57, 32], dtype=int64))"
      ]
     },
     "execution_count": 17,
     "metadata": {},
     "output_type": "execute_result"
    }
   ],
   "source": [
    "y=df_noclbb.loc[:,\"hdrs_cod\"]\n",
    "group=df_noclbb.loc[:,\"group_dx\"]\n",
    "fast=df_noclbb.loc[:,\"TOTAL_FAST\"]\n",
    "\n",
    "np.unique(y, return_counts=True)"
   ]
  },
  {
   "cell_type": "code",
   "execution_count": 18,
   "metadata": {},
   "outputs": [],
   "source": [
    "df_noclb=df_noclbb.drop([\"group_dx\", \"TOTAL_HDRS\", \"hdrs_cod\", \"TOTAL_FAST\"], axis=1)"
   ]
  },
  {
   "cell_type": "markdown",
   "metadata": {},
   "source": [
    "## Separem train i test"
   ]
  },
  {
   "cell_type": "code",
   "execution_count": 19,
   "metadata": {},
   "outputs": [],
   "source": [
    "from sklearn.model_selection import train_test_split # split into train/test sets\n",
    "import random\n",
    "\n",
    "random.seed(44)\n",
    "trainxxx, testxxx, trainy, testy = train_test_split(df_noclb, y, test_size=0.2, random_state=2, stratify=y)"
   ]
  },
  {
   "cell_type": "markdown",
   "metadata": {},
   "source": [
    "**Obviem les dades clíniques però les guardem per després poder modelar patients.**"
   ]
  },
  {
   "cell_type": "code",
   "execution_count": 20,
   "metadata": {},
   "outputs": [],
   "source": [
    "train_cl=trainxxx[[\"weeks_sick_leave\",\"current_sick_leave\",\"age_illness_onset\",\"depre_episodes\",\"number_hospitalitzations\",\"clinical_stability\",\"history_psychotic_symp\",\"seasonal_pattern\",\"rapid_cycling\",\"history_suicidal_ideation\",\"num_attempts\",\"severity_attempt\",\"family_hist_psychiatric\",\"family_hist_suicide\"]]\n",
    "test_cl=testxxx[[\"weeks_sick_leave\",\"current_sick_leave\",\"age_illness_onset\",\"depre_episodes\",\"number_hospitalitzations\",\"clinical_stability\",\"history_psychotic_symp\",\"seasonal_pattern\",\"rapid_cycling\",\"history_suicidal_ideation\",\"num_attempts\",\"severity_attempt\",\"family_hist_psychiatric\",\"family_hist_suicide\"]]"
   ]
  },
  {
   "cell_type": "code",
   "execution_count": 21,
   "metadata": {},
   "outputs": [],
   "source": [
    "trainxxx.drop([\"weeks_sick_leave\",\"current_sick_leave\",\"age_illness_onset\",\"depre_episodes\",\"number_hospitalitzations\",\"clinical_stability\",\"history_psychotic_symp\",\"seasonal_pattern\",\"rapid_cycling\",\"history_suicidal_ideation\",\"num_attempts\",\"severity_attempt\",\"family_hist_psychiatric\",\"family_hist_suicide\"], axis=1, inplace=True)"
   ]
  },
  {
   "cell_type": "code",
   "execution_count": 22,
   "metadata": {},
   "outputs": [],
   "source": [
    "testxxx.drop([\"weeks_sick_leave\",\"current_sick_leave\",\"age_illness_onset\",\"depre_episodes\",\"number_hospitalitzations\",\"clinical_stability\",\"history_psychotic_symp\",\"seasonal_pattern\",\"rapid_cycling\",\"history_suicidal_ideation\",\"num_attempts\",\"severity_attempt\",\"family_hist_psychiatric\",\"family_hist_suicide\"], axis=1, inplace=True)"
   ]
  },
  {
   "cell_type": "markdown",
   "metadata": {},
   "source": [
    "## Preprocessing pipeline "
   ]
  },
  {
   "cell_type": "markdown",
   "metadata": {},
   "source": [
    "**Afegim un pipeline amb les funcions preprocessing necessaries que ja estiguin entrenades**:\n",
    "- Transformació logaritmica del glutathione **(es fa directament al validate)**\n",
    "- Estandaritzar puntuacions\n",
    "- Imputació missings: MULTIVARIATE REGRESSION MISSINGS IMPUTER https://scikit-learn.org/stable/modules/impute.html, https://stackoverflow.com/questions/47689825/missing-values-imputation-in-python\n",
    "     - at each step, a feature column is designated as output y\n",
    "     - and the other feature columns are treated as inputs X\n",
    "    \n",
    "   \n",
    "\n",
    "*As all pipeline steps, first calls the **.fit()** method and then the **.transform()** method on the training set but only .transform() on the test set*\n",
    "\n",
    "*https://medium.com/analytics-vidhya/how-to-apply-preprocessing-steps-in-a-pipeline-only-to-specific-features-4e91fe45dfb8*\n",
    "\n",
    "*https://medium.com/swlh/data-preprocessing-and-data-modeling-for-kaggle-house-price-prediction-data-in-python-c04055ded258*"
   ]
  },
  {
   "cell_type": "code",
   "execution_count": 23,
   "metadata": {},
   "outputs": [],
   "source": [
    "from sklearn.compose import ColumnTransformer\n",
    "import math\n",
    "####ESCALEM LES PUNTUACIONS\n",
    "from sklearn import preprocessing\n",
    "\n",
    "from sklearn.preprocessing import StandardScaler\n",
    "#https://scikit-learn.org/stable/modules/impute.html\n",
    "#https://stackoverflow.com/questions/47689825/missing-values-imputation-in-python\n",
    "\n",
    "from sklearn.experimental import enable_iterative_imputer\n",
    "from sklearn.impute import IterativeImputer  #MULTIVARIATE REGRESSION MISSINGS IMPUTER\n",
    "\n",
    "from sklearn.pipeline import Pipeline\n",
    "from sklearn.pipeline import make_pipeline"
   ]
  },
  {
   "cell_type": "code",
   "execution_count": 24,
   "metadata": {},
   "outputs": [],
   "source": [
    "puntuation_features=[\"T_vocab\",\"CVLT_trial1\",\"CVLT_trial5\",\"CVLT_total\",\"CVLT_delayed\", \"DIGIT_forward\",\"DIGIT_backward\", \"TMTA_sec\", \"TMTB_sec\", \"ROCF_copy\", \"ROCF_delayed\",\"FLUENCY_phonemic\",\"FLUENCY_semantic\",\"WCST_perseverative_error\"]"
   ]
  },
  {
   "cell_type": "code",
   "execution_count": 25,
   "metadata": {},
   "outputs": [],
   "source": [
    "scale=ColumnTransformer(\n",
    "   [\n",
    "       #(\"impute\",IterativeImputer(max_iter=10, random_state=0), features),\n",
    "       (\"scale_puntuation\",StandardScaler(), puntuation_features)#np.array(range(5,20)))\n",
    " ],\n",
    " remainder=\"passthrough\"#\"drop\"les que no s'anomenen no sortiran \n",
    ")"
   ]
  },
  {
   "cell_type": "code",
   "execution_count": 26,
   "metadata": {},
   "outputs": [],
   "source": [
    "pipeline=Pipeline(steps=[(\"scale\",scale), \n",
    "                         (\"imputation\",IterativeImputer(max_iter=10, random_state=0))\n",
    "                        ])#, (\"model\",clf)])"
   ]
  },
  {
   "cell_type": "markdown",
   "metadata": {},
   "source": [
    "Entrenem i transformem el **pipeline de preprocessing** pel conjunt trainx i simplement transformem les dades del conjunt testx. Tornem a col.locar els indexs corresponents (al fer el pipeline es converteix en un array on els seus index son de 0 a 80)"
   ]
  },
  {
   "cell_type": "code",
   "execution_count": 27,
   "metadata": {},
   "outputs": [],
   "source": [
    "idtrain_row=trainxxx.index.values\n",
    "idtest_row=testxxx.index.values"
   ]
  },
  {
   "cell_type": "code",
   "execution_count": 28,
   "metadata": {},
   "outputs": [
    {
     "name": "stdout",
     "output_type": "stream",
     "text": [
      "dim train input (96, 22)\n"
     ]
    }
   ],
   "source": [
    "trainx=pd.DataFrame(pipeline.fit_transform(trainxxx))\n",
    "print(\"dim train input\",trainx.shape)\n",
    "\n",
    "trainx.index=idtrain_row"
   ]
  },
  {
   "cell_type": "code",
   "execution_count": 29,
   "metadata": {},
   "outputs": [
    {
     "name": "stdout",
     "output_type": "stream",
     "text": [
      "dim test inpu (25, 22)\n"
     ]
    }
   ],
   "source": [
    "testx=pd.DataFrame(pipeline.transform(testxxx))\n",
    "print(\"dim test inpu\",testx.shape)\n",
    "\n",
    "testx.index=idtest_row"
   ]
  },
  {
   "cell_type": "markdown",
   "metadata": {},
   "source": [
    "Unim tot el conjunt per guardar la base de dades preprocessada"
   ]
  },
  {
   "cell_type": "code",
   "execution_count": 30,
   "metadata": {},
   "outputs": [],
   "source": [
    "x=pd.concat([trainx, testx], axis=0, ignore_index=True)\n",
    "x.columns=[\"Estimated IQ\",\"Verbal learning (trial 1)\",\"Verbal learning (trial 5)\",\"Verbal learning (total)\",\"Verbal learning (delayed)\", \"Digit forward\",\"Digit backward\", \"Trail Making Test A\", \n",
    "                       \"Trail Making Test B\", \"Complex figure copy\", \"Complex figure delayed\",\"Phonemic fluency\",\"Semantic fluency\",\"WCST perseverative error\",\n",
    "               \"Age\", \"Sex\", \"Years schooling\", \"Physical exercise\", \"Medical psychiatric history\", \"BDNF\", \"Protein carbonyl\", \"Glutathione\"]\n",
    "y=pd.concat([trainy, testy], axis=0, ignore_index=True)\n",
    "\n",
    "data=pd.concat([y,x], axis=1)\n",
    "data.to_csv('data.csv', header=True, index=False)\n"
   ]
  },
  {
   "cell_type": "markdown",
   "metadata": {},
   "source": [
    "# Modelització"
   ]
  },
  {
   "cell_type": "code",
   "execution_count": 31,
   "metadata": {},
   "outputs": [],
   "source": [
    "from sklearn.metrics import confusion_matrix\n",
    "from sklearn.metrics import accuracy_score, precision_score, recall_score, f1_score\n",
    "from sklearn.metrics import classification_report\n",
    "\n",
    "####REGRESIO LOGISTICA\n",
    "from sklearn.linear_model import LogisticRegression\n",
    "\n",
    "###Decision tree\n",
    "from sklearn import tree\n",
    "\n",
    "###Random forest\n",
    "from sklearn.ensemble import RandomForestClassifier\n",
    "\n",
    "### SVM\n",
    "from sklearn.svm import SVC\n",
    "\n",
    "###XGBOOST\n",
    "#!conda install -c conda-forge xgboost \n",
    "import xgboost as xgb\n",
    "\n",
    "#text input funcio\n",
    "import sys, re \n",
    "\n",
    "#evaluation metrics\n",
    "from sklearn.metrics import classification_report \n",
    "\n",
    "# split into train/test sets\n",
    "\n",
    "from sklearn.model_selection import train_test_split "
   ]
  },
  {
   "cell_type": "markdown",
   "metadata": {},
   "source": [
    "## Grid-Search paràmetres models\n",
    "\n",
    "https://vitalflux.com/grid-search-explained-python-sklearn-examples/"
   ]
  },
  {
   "cell_type": "code",
   "execution_count": 32,
   "metadata": {},
   "outputs": [],
   "source": [
    "#fa iteracions entre combinacions parametres fins a trobar els millors\n",
    "from sklearn.model_selection import GridSearchCV"
   ]
  },
  {
   "cell_type": "markdown",
   "metadata": {},
   "source": [
    "## G-s Random Forest\n",
    "\n",
    "paràmetres: **max_depth**, **max_features**, **criterion**\n",
    "\n",
    "- **max_depth** (default=6) : Maximum depth of a tree. Increasing this value will make the model more complex and more likely to overfit.\n",
    "\n",
    "https://scikit-learn.org/stable/modules/generated/sklearn.ensemble.RandomForestClassifier.html"
   ]
  },
  {
   "cell_type": "raw",
   "metadata": {},
   "source": [
    "### Create the parameter grid\n",
    "param_grid_rfc = {\n",
    "    'max_depth':[4,5,6,7,8,9,10,11,12],\n",
    "    'max_features':[2,3,4, 5, 6, 7,8,9,10,11,12,13],\n",
    "    'criterion':['gini', 'entropy']\n",
    "}\n",
    "\n",
    "clfRF = RandomForestClassifier(n_estimators=100,random_state=1)\n",
    "#\n",
    "# Create an instance of GridSearch Cross-validation estimator\n",
    "#\n",
    "#criterion=gini impurity: What’s the probability we classify the datapoint incorrectly\n",
    "gsRFC = GridSearchCV(estimator=clfRF,\n",
    "                     param_grid = param_grid_rfc,\n",
    "                     scoring='accuracy',\n",
    "                     cv=10,\n",
    "                     refit=True,\n",
    "                     n_jobs=1\n",
    "                     #,average=\"micro\"\n",
    "                     )\n",
    "\n",
    "#\n",
    "# Train the RandomForestClassifier\n",
    "#\n",
    "gsRFCf=gsRFC.fit(trainx, trainy)#, anot)\n",
    "\n",
    "print(\"Accuracy cv (split)\",gsRFCf.best_score_)\n",
    "#\n",
    "# Print the model parameters of the best model\n",
    "#\n",
    "print(\"Best parameters set\",gsRFCf.best_params_)\n",
    "#\n",
    "# Print the test score of the best model\n",
    "#\n",
    "clfRFC = gsRFCf.best_estimator_\n",
    "#print('Test accuracy: %.3f' % clfRFC.score(testx, testy)#, average=\"micro\")\n",
    "\n",
    "print(\"Accuracy test\",gsRFCf.score(testx,testy))\n",
    "#print(classification_report(testy,gsRfCf.predict(testx), average= \"weighted\"))\n",
    "#This warning message reports that the number of submodels is increasing from 10 to 100, likely because computers are getting faster and 10 is very small, even 100 is small.\n",
    "rfa=gsRFCf.score(testx,testy)"
   ]
  },
  {
   "cell_type": "markdown",
   "metadata": {},
   "source": [
    "## G-s SVC\n",
    "Paràmetres: **gamma**, **c**, **kernel** can be set as linear or rbf:\n",
    "\n",
    "- For kernel value set to linear, the inverse regularization parameter C is set to different values\n",
    "\n",
    "- For kernel value set to rbf, the inverse regularization parameter C and other parameter gamma is set to different values.\n"
   ]
  },
  {
   "cell_type": "raw",
   "metadata": {},
   "source": [
    "# Create the parameter grid\n",
    "#\n",
    "param_grid_svc = [{\n",
    "                    'C': [0.001, 0.01, 0.05, 0.1, 0.5, 1.0, 10.0],\n",
    "                    'kernel': ['linear']\n",
    "                  },\n",
    "                 {\n",
    "                    'C': [0.001, 0.01, 0.05, 0.1, 0.5, 1.0, 10.0],\n",
    "                    'gamma': [0.001, 0.01, 0.05, 0.1, 0.5, 1.0, 10.0],\n",
    "                    'kernel': ['rbf']\n",
    "                 }]\n",
    "#\n",
    "# Create an instance of GridSearch Cross-validation estimator\n",
    "#\n",
    "clfSVM=SVC(random_state=1)\n",
    "gsSVC = GridSearchCV(estimator=clfSVM,\n",
    "                     param_grid = param_grid_svc,\n",
    "                     scoring='accuracy',\n",
    "                     cv=10,\n",
    "                     refit=True,\n",
    "                     n_jobs=1)\n",
    "#\n",
    "# Train the SVM classifier\n",
    "#\n",
    "gsSVC.fit(trainx, trainy)\n",
    "\n",
    "# Print the training score of the best model\n",
    "#\n",
    "print(\"Accuracy train splits\",gsSVC.best_score_)\n",
    "#\n",
    "# Print the model parameters of the best model\n",
    "#\n",
    "print(\"Best parameters set\",gsSVC.best_params_)\n",
    "#\n",
    "# Print the model score on the test data using GridSearchCV score method\n",
    "#\n",
    "print('Test accuracy: %.3f' % gsSVC.score(testx, testy))\n",
    "#\n",
    "# Print the model score on the test data using Best estimator instance\n",
    "#\n",
    "clfSVC = gsSVC.best_estimator_\n",
    "\n",
    "sva=clfSVC.score(testx,testy)"
   ]
  },
  {
   "cell_type": "markdown",
   "metadata": {},
   "source": [
    "## G-s Multinomial classification \n",
    "\n",
    "**C**: inverse regularization \n",
    "Like in support vector machines, smaller values specify stronger regularization.This means that values close to 1.0 indicate very little penalty and values close to zero indicate a strong penalty. A C value of 1.0 may indicate no penalty at all.\n",
    "\n",
    "**penalty term**: imposes pressure on the model to seek smaller model weights. This is achieved by adding a weighted sum of the model coefficients to the loss function, encouraging the model to reduce the size of the weights along with the error while fitting the model.\n",
    "Popular type of penalty is the **L2 penalty** that adds the (weighted) sum of the squared coefficients to the loss function\n"
   ]
  },
  {
   "cell_type": "raw",
   "metadata": {},
   "source": [
    "### Create the parameter grid\n",
    "#\n",
    "param_grid_lr = {\n",
    "    'C': [0.001, 0.01, 0.05, 0.1, 0.5, 1.0, 10.0]\n",
    "    ,\"penalty\":[\"l2\"]#\"none\", \n",
    "    ,\"solver\":[\"newton-cg\"]#, \"sag\"]#\"lbfgs\"\n",
    "}\n",
    "#\n",
    "# Create an instance of GridSearch Cross-validation estimator\n",
    "#\n",
    "clfLR=LogisticRegression(random_state=1, #  penalty=\"l2\",#solver='lbfgs',\n",
    "                         multi_class='multinomial', max_iter=1000)\n",
    "gsLR = GridSearchCV(estimator=clfLR,\n",
    "                     param_grid = param_grid_lr,\n",
    "                     scoring='accuracy',\n",
    "                     cv=10,\n",
    "                     refit=True,\n",
    "                     n_jobs=1)\n",
    "\n",
    "# Train the LogisticRegression Classifier\n",
    "gsLR.fit(trainx, trainy)\n",
    "\n",
    "## Print the training score of the best model\n",
    "#\n",
    "print(\"train Accuracy\",gsLR.best_score_)\n",
    "#\n",
    "# Print the model parameters of the best model\n",
    "#\n",
    "print(\"Best parameter set\",gsLR.best_params_)\n",
    "#\n",
    "# Print the test score of the best model\n",
    "#\n",
    "clfLR = gsLR.best_estimator_\n",
    "print('Test accuracy: %.3f' % clfLR.score(testx,testy))\n",
    "lra=clfLR.score(testx,testy)"
   ]
  },
  {
   "cell_type": "markdown",
   "metadata": {},
   "source": [
    "## G-s XGboost\n",
    "\n",
    "*https://xgboost.readthedocs.io/en/latest/parameter.html#:~:text=%20XGBoost%20Parameters%20%C2%B6%20%201%20Global%20Configuration,corresponding%20learning%20objective.%20%20...%20All...%20More%20*\n",
    "\n",
    "https://xgboost.readthedocs.io/en/latest/python/python_api.html\n",
    "\n",
    "- **booster**(default= gbtree)= Which booster to use. Can be **gbtree**(use tree based models), **gblinear**(linear functions) or **dart**(use tree based models)\n",
    "\n",
    "- **max_depth**(default=6): Maximum depth of a tree. Increasing this value will make the model more complex and more likely to overfit.\n",
    "\n",
    "- **subsample**(default=1): subsample ratio of the training instances. Setting it to 0.5 means that XGBoost would randomly sample half of the training data prior to growing trees. and this will prevent overfitting. Subsampling will occur once in every boosting iteration."
   ]
  },
  {
   "cell_type": "raw",
   "metadata": {},
   "source": [
    "xgb_param={\n",
    "    \"max_depth\":[5,6,7,8,9,10],\n",
    "    \"learning_rate\":[0.01,0.1,0.5,],\n",
    "    #=eta: reduces step size used in update to prevent overfitting\n",
    "    \"n_estimators\":[50,100,150,200, 250],\n",
    "    \"subsample\":[0.3,0.5,0.9]\n",
    "}\n",
    "\n",
    "xgb_clf=xgb.XGBClassifier(use_label_encoder=True,eval_metric=\"logloss\")#booster=tree\n",
    "#use label encoder=true is deprecated i s'eliminara en un futur\n",
    "gsXGB=GridSearchCV(estimator=xgb_clf, param_grid=xgb_param,\n",
    "                     scoring=\"accuracy\", cv=4, verbose=1)\n",
    "\n",
    "gsXGB.fit(trainx, trainy)#,trainy_xgb\n",
    "\n",
    "print(\"Best parameters found:\",gsXGB.best_params_)\n",
    "print(\"highest accuracy found train\", gsXGB.best_score_)\n",
    "print(\"Accuracy test\", gsXGB.score(testx,testy))\n",
    "xgba=gsXGB.score(testx,testy)"
   ]
  },
  {
   "cell_type": "markdown",
   "metadata": {},
   "source": [
    "### Comparant accuracies"
   ]
  },
  {
   "cell_type": "raw",
   "metadata": {},
   "source": [
    "#comparing accuracies\n",
    "plt.figure(figsize= (8,7))\n",
    "ac = [lra,rfa,sva,xgba]\n",
    "name = ['Logistic Multinomial Regression','Random Forest','SVM','XG Boost']\n",
    "sns.barplot(x = ac,y = name,palette='pastel')\n",
    "plt.title(\"Plotting the Model Accuracies\", fontsize=16, fontweight=\"bold\")"
   ]
  },
  {
   "cell_type": "markdown",
   "metadata": {},
   "source": [
    "## Funció selecció model"
   ]
  },
  {
   "cell_type": "code",
   "execution_count": 33,
   "metadata": {},
   "outputs": [],
   "source": [
    "def model(trainx,trainy,testx,testy,mod):\n",
    "    \n",
    "    if mod==\"SVC\":\n",
    "        clf=SVC(kernel=\"linear\",C=0.05)#svm\n",
    "    elif mod==\"RF\":\n",
    "        clf=RandomForestClassifier(n_estimators=100,n_jobs=-1, max_depth=4, max_features=8)\n",
    "    elif mod==\"LogReg\":\n",
    "         clf=LogisticRegression(solver=\"newton-cg\", C=0.1, multi_class=\"multinomial\")\n",
    "    elif mod==\"XGB\":\n",
    "        clf=xgb.XGBClassifier( learning_rate= 0.01, max_depth= 5, \n",
    "                              n_estimators= 200, subsample= 0.3,\n",
    "                             use_label_encoder=True,eval_metric=\"logloss\")\n",
    " \n",
    "    else:\n",
    "        print(\"Command doesn't exist.\")\n",
    "    \n",
    "    #entrenem\n",
    "    clf.fit(trainx,trainy)\n",
    "    #prediccions\n",
    "    y_pred=clf.predict(testx)\n",
    "    \n",
    "    print(\"Model predictiu:\",mod)\n",
    "    \n",
    "    #confusion matrix\n",
    "    cm=confusion_matrix(testy,y_pred)\n",
    "    sns.set(rc={'figure.figsize':(6,5)})\n",
    "    sns.heatmap(cm, annot=True, cmap=\"Spectral\")\n",
    "    # labels, title and ticks\n",
    "    ax = plt.gca()\n",
    "    ax.set_xlabel('PREDICTED LABELS')\n",
    "    ax.set_ylabel('ACTUAL LABELS') \n",
    "    ax.set_title('Confusion Matrix')\n",
    "    ax.xaxis.set_ticklabels([\"control\",'rem.clinica','rem.parcial'])\n",
    "    ax.yaxis.set_ticklabels([\"control\",'rem.clinica','rem.parcial'])\n",
    "    \n",
    "    #accuracy\n",
    "    print(\"accuracy\",clf.score(testx,testy))\n",
    "    #print(cm)\n",
    "\n",
    "    print(classification_report(testy, y_pred, target_names=['control', 'rem.clinica', 'rem.parcial']))"
   ]
  },
  {
   "cell_type": "markdown",
   "metadata": {},
   "source": [
    "### Model Multinomial Regression"
   ]
  },
  {
   "cell_type": "code",
   "execution_count": 34,
   "metadata": {},
   "outputs": [
    {
     "name": "stdout",
     "output_type": "stream",
     "text": [
      "Model predictiu: LogReg\n",
      "accuracy 0.8\n",
      "              precision    recall  f1-score   support\n",
      "\n",
      "     control       1.00      1.00      1.00         7\n",
      " rem.clinica       0.77      0.83      0.80        12\n",
      " rem.parcial       0.60      0.50      0.55         6\n",
      "\n",
      "    accuracy                           0.80        25\n",
      "   macro avg       0.79      0.78      0.78        25\n",
      "weighted avg       0.79      0.80      0.79        25\n",
      "\n"
     ]
    },
    {
     "data": {
      "image/png": "[encoded data removed]",
      "text/plain": [
       "<Figure size 432x360 with 2 Axes>"
      ]
     },
     "metadata": {},
     "output_type": "display_data"
    }
   ],
   "source": [
    "model(trainx,trainy,testx,testy, \"LogReg\") #https://towardsdatascience.com/confusion-matrix-for-your-multi-class-machine-learning-model-ff9aa3bf7826"
   ]
  },
  {
   "cell_type": "markdown",
   "metadata": {},
   "source": [
    "### Model Random Forest"
   ]
  },
  {
   "cell_type": "code",
   "execution_count": 35,
   "metadata": {},
   "outputs": [
    {
     "name": "stdout",
     "output_type": "stream",
     "text": [
      "Model predictiu: RF\n",
      "accuracy 0.72\n",
      "              precision    recall  f1-score   support\n",
      "\n",
      "     control       1.00      0.86      0.92         7\n",
      " rem.clinica       0.67      0.83      0.74        12\n",
      " rem.parcial       0.50      0.33      0.40         6\n",
      "\n",
      "    accuracy                           0.72        25\n",
      "   macro avg       0.72      0.67      0.69        25\n",
      "weighted avg       0.72      0.72      0.71        25\n",
      "\n"
     ]
    },
    {
     "data": {
      "image/png": "[encoded data removed]",
      "text/plain": [
       "<Figure size 432x360 with 2 Axes>"
      ]
     },
     "metadata": {},
     "output_type": "display_data"
    }
   ],
   "source": [
    "model(trainx,trainy,testx,testy, \"RF\")"
   ]
  },
  {
   "cell_type": "markdown",
   "metadata": {},
   "source": [
    "### Model Support Vector Classifier"
   ]
  },
  {
   "cell_type": "code",
   "execution_count": 36,
   "metadata": {},
   "outputs": [
    {
     "name": "stdout",
     "output_type": "stream",
     "text": [
      "Model predictiu: SVC\n",
      "accuracy 0.8\n",
      "              precision    recall  f1-score   support\n",
      "\n",
      "     control       1.00      1.00      1.00         7\n",
      " rem.clinica       0.77      0.83      0.80        12\n",
      " rem.parcial       0.60      0.50      0.55         6\n",
      "\n",
      "    accuracy                           0.80        25\n",
      "   macro avg       0.79      0.78      0.78        25\n",
      "weighted avg       0.79      0.80      0.79        25\n",
      "\n"
     ]
    },
    {
     "data": {
      "image/png": "[encoded data removed]",
      "text/plain": [
       "<Figure size 432x360 with 2 Axes>"
      ]
     },
     "metadata": {},
     "output_type": "display_data"
    }
   ],
   "source": [
    "model(trainx,trainy, testx,testy, \"SVC\")"
   ]
  },
  {
   "cell_type": "markdown",
   "metadata": {},
   "source": [
    "### Model XGBoost"
   ]
  },
  {
   "cell_type": "code",
   "execution_count": 37,
   "metadata": {},
   "outputs": [
    {
     "name": "stdout",
     "output_type": "stream",
     "text": [
      "Model predictiu: XGB\n",
      "accuracy 0.72\n",
      "              precision    recall  f1-score   support\n",
      "\n",
      "     control       0.86      0.86      0.86         7\n",
      " rem.clinica       0.67      0.83      0.74        12\n",
      " rem.parcial       0.67      0.33      0.44         6\n",
      "\n",
      "    accuracy                           0.72        25\n",
      "   macro avg       0.73      0.67      0.68        25\n",
      "weighted avg       0.72      0.72      0.70        25\n",
      "\n"
     ]
    },
    {
     "data": {
      "image/png": "[encoded data removed]",
      "text/plain": [
       "<Figure size 432x360 with 2 Axes>"
      ]
     },
     "metadata": {},
     "output_type": "display_data"
    }
   ],
   "source": [
    "model(trainx,trainy, testx,testy, \"XGB\")\n",
    "#model.feature_importances_"
   ]
  },
  {
   "cell_type": "markdown",
   "metadata": {},
   "source": [
    "**S'observa que els resultats obtinguts no són gaire bons pel que fa a la predicció de pacients. Es decideix definir-ne dos (contemplant la regressió logística i el SVC**"
   ]
  },
  {
   "cell_type": "markdown",
   "metadata": {},
   "source": [
    "### Modelització CONTROLS - PACIENTS "
   ]
  },
  {
   "cell_type": "markdown",
   "metadata": {},
   "source": [
    "Creem primer un model amb 2 categories ja que sembla ser que els control vs pacients (rem.clinica, rem.parcial) els classifica força bé (entre aquestes dues ja costa més)."
   ]
  },
  {
   "cell_type": "code",
   "execution_count": 38,
   "metadata": {},
   "outputs": [
    {
     "name": "stdout",
     "output_type": "stream",
     "text": [
      "(array(['control', 'pacient'], dtype=object), array([25, 71], dtype=int64))\n"
     ]
    },
    {
     "data": {
      "text/plain": [
       "(array(['control', 'pacient'], dtype=object), array([ 7, 18], dtype=int64))"
      ]
     },
     "execution_count": 38,
     "metadata": {},
     "output_type": "execute_result"
    }
   ],
   "source": [
    "dictic={\"control\":\"control\", \"rem.clinica\":\"pacient\", \"rem.parcial\":\"pacient\"}\n",
    "trainy_gb=trainy.map(dictic)\n",
    "testy_gb=testy.map(dictic)\n",
    "print(np.unique(trainy_gb, return_counts=True))\n",
    "np.unique(testy_gb, return_counts=True)"
   ]
  },
  {
   "cell_type": "markdown",
   "metadata": {},
   "source": [
    "**Fem G-s per aquesta modelització i observem resultats a partir de la funció creada.**"
   ]
  },
  {
   "cell_type": "code",
   "execution_count": 39,
   "metadata": {},
   "outputs": [],
   "source": [
    "def model_cp(trainx,trainy,testx,testy,mod):\n",
    "    #trainx, testx, trainy, testy = train_test_split(x, y, test_size=0.25, random_state=2, stratify=y)#donem pes a y(unbalanced)\n",
    "    \n",
    "    if mod==\"SVC\":\n",
    "        clf=SVC(kernel=\"linear\",C=0.05)#svm\n",
    "    elif mod==\"RF\":\n",
    "        clf=RandomForestClassifier(n_estimators=100,n_jobs=-1, max_depth=4, max_features=8)\n",
    "    elif mod==\"LogReg\":\n",
    "         clf=LogisticRegression(solver=\"newton-cg\", C=0.1)\n",
    "    elif mod==\"XGB\":\n",
    "        clf=xgb.XGBClassifier( learning_rate= 0.01, max_depth= 5, \n",
    "                              n_estimators= 200, subsample= 0.3,\n",
    "                             use_label_encoder=True,eval_metric=\"logloss\")\n",
    " \n",
    "    else:\n",
    "        print(\"Command doesn't exist.\")\n",
    "    \n",
    "    #entrenem\n",
    "    clf.fit(trainx,trainy)\n",
    "    #prediccions\n",
    "    y_pred=clf.predict(testx)\n",
    "    \n",
    "    print(\"Model predictiu:\",mod)\n",
    "    \n",
    "    #confusion matrix\n",
    "    cm=confusion_matrix(testy,y_pred)\n",
    "    print(cm)\n",
    "    \n",
    "    #accuracy\n",
    "    print(\"accuracy\",clf.score(testx,testy))\n",
    "    print(\"f1-score\", f1_score(testy, y_pred, average=\"weighted\"))\n",
    "\n",
    "    print(classification_report(testy, y_pred, target_names=['control', 'pacient']))"
   ]
  },
  {
   "cell_type": "markdown",
   "metadata": {},
   "source": [
    "#### Model Support Vector Classifier"
   ]
  },
  {
   "cell_type": "code",
   "execution_count": 40,
   "metadata": {},
   "outputs": [
    {
     "name": "stdout",
     "output_type": "stream",
     "text": [
      "Model predictiu: SVC\n",
      "[[ 6  1]\n",
      " [ 0 18]]\n",
      "accuracy 0.96\n",
      "f1-score 0.959002079002079\n",
      "              precision    recall  f1-score   support\n",
      "\n",
      "     control       1.00      0.86      0.92         7\n",
      "     pacient       0.95      1.00      0.97        18\n",
      "\n",
      "    accuracy                           0.96        25\n",
      "   macro avg       0.97      0.93      0.95        25\n",
      "weighted avg       0.96      0.96      0.96        25\n",
      "\n"
     ]
    }
   ],
   "source": [
    "model_cp(trainx,trainy_gb, testx,testy_gb, \"SVC\")"
   ]
  },
  {
   "cell_type": "markdown",
   "metadata": {},
   "source": [
    "#### Model Regressió Logística"
   ]
  },
  {
   "cell_type": "code",
   "execution_count": 41,
   "metadata": {},
   "outputs": [
    {
     "name": "stdout",
     "output_type": "stream",
     "text": [
      "Model predictiu: LogReg\n",
      "[[ 3  4]\n",
      " [ 0 18]]\n",
      "accuracy 0.84\n",
      "f1-score 0.816\n",
      "              precision    recall  f1-score   support\n",
      "\n",
      "     control       1.00      0.43      0.60         7\n",
      "     pacient       0.82      1.00      0.90        18\n",
      "\n",
      "    accuracy                           0.84        25\n",
      "   macro avg       0.91      0.71      0.75        25\n",
      "weighted avg       0.87      0.84      0.82        25\n",
      "\n"
     ]
    }
   ],
   "source": [
    "model_cp(trainx,trainy_gb, testx,testy_gb, \"LogReg\")"
   ]
  },
  {
   "cell_type": "markdown",
   "metadata": {},
   "source": [
    "### Modelització PACIENTS:  rem.parcial i clínica"
   ]
  },
  {
   "cell_type": "markdown",
   "metadata": {},
   "source": [
    "Provem de modelar nomes els pacients per intentar entrenar el model i obtenir una millor classificació."
   ]
  },
  {
   "cell_type": "code",
   "execution_count": 42,
   "metadata": {},
   "outputs": [
    {
     "name": "stdout",
     "output_type": "stream",
     "text": [
      "(array(['rem.clinica', 'rem.parcial'], dtype=object), array([45, 26], dtype=int64))\n"
     ]
    },
    {
     "data": {
      "text/plain": [
       "(array(['rem.clinica', 'rem.parcial'], dtype=object),\n",
       " array([12,  6], dtype=int64))"
      ]
     },
     "execution_count": 42,
     "metadata": {},
     "output_type": "execute_result"
    }
   ],
   "source": [
    "trainx_nb=trainx[trainy.isin([\"rem.clinica\",\"rem.parcial\"])]\n",
    "trainy_nb=trainy[trainy.isin([\"rem.clinica\",\"rem.parcial\"])]\n",
    "testx_nb=testx[testy.isin([\"rem.clinica\",\"rem.parcial\"])]\n",
    "testy_nb=testy[testy.isin([\"rem.clinica\",\"rem.parcial\"])]\n",
    "\n",
    "print(np.unique(trainy_nb, return_counts=True))\n",
    "np.unique(testy_nb, return_counts=True)"
   ]
  },
  {
   "cell_type": "markdown",
   "metadata": {},
   "source": [
    "**Un cop s'ha fet G-s per aquestes dades, creem la funció a partir de la qual mirem quin model és el que s'ajusta millor.**"
   ]
  },
  {
   "cell_type": "markdown",
   "metadata": {},
   "source": [
    "#### Model Regressió Logística"
   ]
  },
  {
   "cell_type": "code",
   "execution_count": 43,
   "metadata": {},
   "outputs": [
    {
     "name": "stdout",
     "output_type": "stream",
     "text": [
      "Model predictiu: LogReg\n",
      "[[10  2]\n",
      " [ 3  3]]\n",
      "accuracy 0.7222222222222222\n",
      "f1-score 0.7151515151515153\n",
      "              precision    recall  f1-score   support\n",
      "\n",
      "     control       0.77      0.83      0.80        12\n",
      "     pacient       0.60      0.50      0.55         6\n",
      "\n",
      "    accuracy                           0.72        18\n",
      "   macro avg       0.68      0.67      0.67        18\n",
      "weighted avg       0.71      0.72      0.72        18\n",
      "\n"
     ]
    }
   ],
   "source": [
    "model_cp(trainx_nb,trainy_nb, testx_nb,testy_nb, \"LogReg\")"
   ]
  },
  {
   "cell_type": "markdown",
   "metadata": {},
   "source": [
    "#### Model Support Vector Classifier"
   ]
  },
  {
   "cell_type": "code",
   "execution_count": 44,
   "metadata": {},
   "outputs": [
    {
     "name": "stdout",
     "output_type": "stream",
     "text": [
      "Model predictiu: SVC\n",
      "[[10  2]\n",
      " [ 3  3]]\n",
      "accuracy 0.7222222222222222\n",
      "f1-score 0.7151515151515153\n",
      "              precision    recall  f1-score   support\n",
      "\n",
      "     control       0.77      0.83      0.80        12\n",
      "     pacient       0.60      0.50      0.55         6\n",
      "\n",
      "    accuracy                           0.72        18\n",
      "   macro avg       0.68      0.67      0.67        18\n",
      "weighted avg       0.71      0.72      0.72        18\n",
      "\n"
     ]
    }
   ],
   "source": [
    "model_cp(trainx_nb,trainy_nb, testx_nb,testy_nb, \"SVC\")"
   ]
  },
  {
   "cell_type": "markdown",
   "metadata": {},
   "source": [
    "### Afegim dades clíniques al model de pacients\n",
    "Es vol observar si el model s'ajusta millor per pacients ja que les dades clíniques per aquests seran importants."
   ]
  },
  {
   "cell_type": "markdown",
   "metadata": {},
   "source": [
    "S'imputen els valors faltants d'aquestes variables pel valor més frqüent (s'entrena el procés amb el conjunt training)."
   ]
  },
  {
   "cell_type": "code",
   "execution_count": 45,
   "metadata": {},
   "outputs": [],
   "source": [
    "from sklearn.impute import SimpleImputer\n",
    "imp_s = SimpleImputer(missing_values=np.nan, strategy='most_frequent')\n",
    "\n",
    "random.seed(44)\n",
    "trainx_cl=pd.DataFrame(imp_s.fit_transform(train_cl))\n",
    "testx_cl=pd.DataFrame(imp_s.transform(test_cl))"
   ]
  },
  {
   "cell_type": "markdown",
   "metadata": {},
   "source": [
    "**S'analitza la correlació que existeix entre la variable d'interès i les variables clíniques.**"
   ]
  },
  {
   "cell_type": "code",
   "execution_count": 46,
   "metadata": {},
   "outputs": [
    {
     "data": {
      "text/html": [
       "<style  type=\"text/css\" >\n",
       "#T_498ed_row0_col0,#T_498ed_row1_col1,#T_498ed_row2_col2,#T_498ed_row3_col3,#T_498ed_row4_col4,#T_498ed_row5_col5,#T_498ed_row6_col6,#T_498ed_row7_col7,#T_498ed_row8_col8,#T_498ed_row9_col9,#T_498ed_row10_col10,#T_498ed_row11_col11,#T_498ed_row12_col12,#T_498ed_row13_col13{\n",
       "            background-color:  #023858;\n",
       "            color:  #f1f1f1;\n",
       "        }#T_498ed_row0_col1,#T_498ed_row2_col9{\n",
       "            background-color:  #b8c6e0;\n",
       "            color:  #000000;\n",
       "        }#T_498ed_row0_col2,#T_498ed_row4_col11,#T_498ed_row11_col4,#T_498ed_row13_col11{\n",
       "            background-color:  #86b0d3;\n",
       "            color:  #000000;\n",
       "        }#T_498ed_row0_col3,#T_498ed_row2_col5,#T_498ed_row7_col6,#T_498ed_row11_col0,#T_498ed_row13_col3{\n",
       "            background-color:  #d1d2e6;\n",
       "            color:  #000000;\n",
       "        }#T_498ed_row0_col4{\n",
       "            background-color:  #7eadd1;\n",
       "            color:  #000000;\n",
       "        }#T_498ed_row0_col5{\n",
       "            background-color:  #dfddec;\n",
       "            color:  #000000;\n",
       "        }#T_498ed_row0_col6,#T_498ed_row9_col5{\n",
       "            background-color:  #f8f1f8;\n",
       "            color:  #000000;\n",
       "        }#T_498ed_row0_col7,#T_498ed_row0_col8,#T_498ed_row1_col9{\n",
       "            background-color:  #dddbec;\n",
       "            color:  #000000;\n",
       "        }#T_498ed_row0_col9,#T_498ed_row2_col12,#T_498ed_row11_col8{\n",
       "            background-color:  #e4e1ef;\n",
       "            color:  #000000;\n",
       "        }#T_498ed_row0_col10,#T_498ed_row6_col13,#T_498ed_row8_col1,#T_498ed_row9_col2{\n",
       "            background-color:  #c1cae2;\n",
       "            color:  #000000;\n",
       "        }#T_498ed_row0_col11,#T_498ed_row2_col0,#T_498ed_row4_col0{\n",
       "            background-color:  #a7bddb;\n",
       "            color:  #000000;\n",
       "        }#T_498ed_row0_col12,#T_498ed_row7_col10,#T_498ed_row12_col5,#T_498ed_row12_col6{\n",
       "            background-color:  #dad9ea;\n",
       "            color:  #000000;\n",
       "        }#T_498ed_row0_col13,#T_498ed_row1_col4{\n",
       "            background-color:  #c8cde4;\n",
       "            color:  #000000;\n",
       "        }#T_498ed_row1_col0,#T_498ed_row13_col1{\n",
       "            background-color:  #b0c2de;\n",
       "            color:  #000000;\n",
       "        }#T_498ed_row1_col2,#T_498ed_row10_col4{\n",
       "            background-color:  #65a3cb;\n",
       "            color:  #000000;\n",
       "        }#T_498ed_row1_col3,#T_498ed_row8_col6,#T_498ed_row12_col10{\n",
       "            background-color:  #c6cce3;\n",
       "            color:  #000000;\n",
       "        }#T_498ed_row1_col5{\n",
       "            background-color:  #bdc8e1;\n",
       "            color:  #000000;\n",
       "        }#T_498ed_row1_col6{\n",
       "            background-color:  #a4bcda;\n",
       "            color:  #000000;\n",
       "        }#T_498ed_row1_col7,#T_498ed_row10_col12{\n",
       "            background-color:  #e0dded;\n",
       "            color:  #000000;\n",
       "        }#T_498ed_row1_col8,#T_498ed_row10_col13{\n",
       "            background-color:  #91b5d6;\n",
       "            color:  #000000;\n",
       "        }#T_498ed_row1_col10{\n",
       "            background-color:  #a9bfdc;\n",
       "            color:  #000000;\n",
       "        }#T_498ed_row1_col11{\n",
       "            background-color:  #83afd3;\n",
       "            color:  #000000;\n",
       "        }#T_498ed_row1_col12,#T_498ed_row10_col0{\n",
       "            background-color:  #d8d7e9;\n",
       "            color:  #000000;\n",
       "        }#T_498ed_row1_col13,#T_498ed_row12_col13{\n",
       "            background-color:  #9cb9d9;\n",
       "            color:  #000000;\n",
       "        }#T_498ed_row2_col1{\n",
       "            background-color:  #8cb3d5;\n",
       "            color:  #000000;\n",
       "        }#T_498ed_row2_col3,#T_498ed_row6_col3,#T_498ed_row10_col1{\n",
       "            background-color:  #c9cee4;\n",
       "            color:  #000000;\n",
       "        }#T_498ed_row2_col4{\n",
       "            background-color:  #a8bedc;\n",
       "            color:  #000000;\n",
       "        }#T_498ed_row2_col6,#T_498ed_row6_col8,#T_498ed_row11_col13{\n",
       "            background-color:  #a2bcda;\n",
       "            color:  #000000;\n",
       "        }#T_498ed_row2_col7,#T_498ed_row3_col5,#T_498ed_row4_col3,#T_498ed_row4_col6,#T_498ed_row4_col8,#T_498ed_row7_col2,#T_498ed_row7_col12,#T_498ed_row7_col13,#T_498ed_row8_col4,#T_498ed_row9_col0,#T_498ed_row9_col1,#T_498ed_row9_col10,#T_498ed_row9_col11,#T_498ed_row11_col9{\n",
       "            background-color:  #fff7fb;\n",
       "            color:  #000000;\n",
       "        }#T_498ed_row2_col8{\n",
       "            background-color:  #96b6d7;\n",
       "            color:  #000000;\n",
       "        }#T_498ed_row2_col10{\n",
       "            background-color:  #bbc7e0;\n",
       "            color:  #000000;\n",
       "        }#T_498ed_row2_col11{\n",
       "            background-color:  #b7c5df;\n",
       "            color:  #000000;\n",
       "        }#T_498ed_row2_col13,#T_498ed_row4_col10{\n",
       "            background-color:  #76aad0;\n",
       "            color:  #000000;\n",
       "        }#T_498ed_row3_col0,#T_498ed_row5_col8,#T_498ed_row10_col3{\n",
       "            background-color:  #eee8f3;\n",
       "            color:  #000000;\n",
       "        }#T_498ed_row3_col1{\n",
       "            background-color:  #ede7f2;\n",
       "            color:  #000000;\n",
       "        }#T_498ed_row3_col2,#T_498ed_row7_col3,#T_498ed_row12_col3{\n",
       "            background-color:  #ced0e6;\n",
       "            color:  #000000;\n",
       "        }#T_498ed_row3_col4,#T_498ed_row8_col5{\n",
       "            background-color:  #fef6fa;\n",
       "            color:  #000000;\n",
       "        }#T_498ed_row3_col6,#T_498ed_row5_col9,#T_498ed_row6_col4,#T_498ed_row11_col12,#T_498ed_row12_col7{\n",
       "            background-color:  #e7e3f0;\n",
       "            color:  #000000;\n",
       "        }#T_498ed_row3_col7,#T_498ed_row7_col5,#T_498ed_row10_col7,#T_498ed_row13_col0{\n",
       "            background-color:  #d3d4e7;\n",
       "            color:  #000000;\n",
       "        }#T_498ed_row3_col8{\n",
       "            background-color:  #71a8ce;\n",
       "            color:  #000000;\n",
       "        }#T_498ed_row3_col9{\n",
       "            background-color:  #7dacd1;\n",
       "            color:  #000000;\n",
       "        }#T_498ed_row3_col10,#T_498ed_row10_col6{\n",
       "            background-color:  #f6eff7;\n",
       "            color:  #000000;\n",
       "        }#T_498ed_row3_col11,#T_498ed_row5_col3{\n",
       "            background-color:  #f1ebf4;\n",
       "            color:  #000000;\n",
       "        }#T_498ed_row3_col12{\n",
       "            background-color:  #f0eaf4;\n",
       "            color:  #000000;\n",
       "        }#T_498ed_row3_col13{\n",
       "            background-color:  #e5e1ef;\n",
       "            color:  #000000;\n",
       "        }#T_498ed_row4_col1{\n",
       "            background-color:  #efe9f3;\n",
       "            color:  #000000;\n",
       "        }#T_498ed_row4_col2,#T_498ed_row13_col8{\n",
       "            background-color:  #afc1dd;\n",
       "            color:  #000000;\n",
       "        }#T_498ed_row4_col5,#T_498ed_row8_col3{\n",
       "            background-color:  #73a9cf;\n",
       "            color:  #000000;\n",
       "        }#T_498ed_row4_col7{\n",
       "            background-color:  #e2dfee;\n",
       "            color:  #000000;\n",
       "        }#T_498ed_row4_col9,#T_498ed_row9_col4{\n",
       "            background-color:  #fdf5fa;\n",
       "            color:  #000000;\n",
       "        }#T_498ed_row4_col12,#T_498ed_row7_col4{\n",
       "            background-color:  #dcdaeb;\n",
       "            color:  #000000;\n",
       "        }#T_498ed_row4_col13,#T_498ed_row13_col5{\n",
       "            background-color:  #b9c6e0;\n",
       "            color:  #000000;\n",
       "        }#T_498ed_row5_col0,#T_498ed_row5_col12{\n",
       "            background-color:  #ebe6f2;\n",
       "            color:  #000000;\n",
       "        }#T_498ed_row5_col1{\n",
       "            background-color:  #d4d4e8;\n",
       "            color:  #000000;\n",
       "        }#T_498ed_row5_col2,#T_498ed_row11_col2,#T_498ed_row12_col11{\n",
       "            background-color:  #bfc9e1;\n",
       "            color:  #000000;\n",
       "        }#T_498ed_row5_col4{\n",
       "            background-color:  #5a9ec9;\n",
       "            color:  #000000;\n",
       "        }#T_498ed_row5_col6,#T_498ed_row11_col3,#T_498ed_row13_col7{\n",
       "            background-color:  #f2ecf5;\n",
       "            color:  #000000;\n",
       "        }#T_498ed_row5_col7,#T_498ed_row12_col2,#T_498ed_row12_col9{\n",
       "            background-color:  #c2cbe2;\n",
       "            color:  #000000;\n",
       "        }#T_498ed_row5_col10{\n",
       "            background-color:  #157ab5;\n",
       "            color:  #000000;\n",
       "        }#T_498ed_row5_col11{\n",
       "            background-color:  #348ebf;\n",
       "            color:  #000000;\n",
       "        }#T_498ed_row5_col13{\n",
       "            background-color:  #bcc7e1;\n",
       "            color:  #000000;\n",
       "        }#T_498ed_row6_col0{\n",
       "            background-color:  #faf3f9;\n",
       "            color:  #000000;\n",
       "        }#T_498ed_row6_col1,#T_498ed_row12_col8,#T_498ed_row13_col12{\n",
       "            background-color:  #adc1dd;\n",
       "            color:  #000000;\n",
       "        }#T_498ed_row6_col2,#T_498ed_row13_col10{\n",
       "            background-color:  #84b0d3;\n",
       "            color:  #000000;\n",
       "        }#T_498ed_row6_col5,#T_498ed_row9_col12{\n",
       "            background-color:  #eae6f1;\n",
       "            color:  #000000;\n",
       "        }#T_498ed_row6_col7,#T_498ed_row10_col2{\n",
       "            background-color:  #b1c2de;\n",
       "            color:  #000000;\n",
       "        }#T_498ed_row6_col9{\n",
       "            background-color:  #6fa7ce;\n",
       "            color:  #000000;\n",
       "        }#T_498ed_row6_col10{\n",
       "            background-color:  #e8e4f0;\n",
       "            color:  #000000;\n",
       "        }#T_498ed_row6_col11{\n",
       "            background-color:  #dbdaeb;\n",
       "            color:  #000000;\n",
       "        }#T_498ed_row6_col12{\n",
       "            background-color:  #e0deed;\n",
       "            color:  #000000;\n",
       "        }#T_498ed_row7_col0{\n",
       "            background-color:  #f5eef6;\n",
       "            color:  #000000;\n",
       "        }#T_498ed_row7_col1{\n",
       "            background-color:  #fbf4f9;\n",
       "            color:  #000000;\n",
       "        }#T_498ed_row7_col8{\n",
       "            background-color:  #d2d3e7;\n",
       "            color:  #000000;\n",
       "        }#T_498ed_row7_col9{\n",
       "            background-color:  #8fb4d6;\n",
       "            color:  #000000;\n",
       "        }#T_498ed_row7_col11{\n",
       "            background-color:  #c4cbe3;\n",
       "            color:  #000000;\n",
       "        }#T_498ed_row8_col0{\n",
       "            background-color:  #faf2f8;\n",
       "            color:  #000000;\n",
       "        }#T_498ed_row8_col2,#T_498ed_row13_col4{\n",
       "            background-color:  #9ebad9;\n",
       "            color:  #000000;\n",
       "        }#T_498ed_row8_col7,#T_498ed_row8_col12,#T_498ed_row12_col1,#T_498ed_row13_col9{\n",
       "            background-color:  #d9d8ea;\n",
       "            color:  #000000;\n",
       "        }#T_498ed_row8_col9,#T_498ed_row9_col8{\n",
       "            background-color:  #a5bddb;\n",
       "            color:  #000000;\n",
       "        }#T_498ed_row8_col10{\n",
       "            background-color:  #dedcec;\n",
       "            color:  #000000;\n",
       "        }#T_498ed_row8_col11{\n",
       "            background-color:  #e3e0ee;\n",
       "            color:  #000000;\n",
       "        }#T_498ed_row8_col13,#T_498ed_row13_col6{\n",
       "            background-color:  #cccfe5;\n",
       "            color:  #000000;\n",
       "        }#T_498ed_row9_col3{\n",
       "            background-color:  #80aed2;\n",
       "            color:  #000000;\n",
       "        }#T_498ed_row9_col6{\n",
       "            background-color:  #94b6d7;\n",
       "            color:  #000000;\n",
       "        }#T_498ed_row9_col7{\n",
       "            background-color:  #97b7d7;\n",
       "            color:  #000000;\n",
       "        }#T_498ed_row9_col13{\n",
       "            background-color:  #eee9f3;\n",
       "            color:  #000000;\n",
       "        }#T_498ed_row10_col5{\n",
       "            background-color:  #197db7;\n",
       "            color:  #000000;\n",
       "        }#T_498ed_row10_col8{\n",
       "            background-color:  #d2d2e7;\n",
       "            color:  #000000;\n",
       "        }#T_498ed_row10_col9{\n",
       "            background-color:  #f4eef6;\n",
       "            color:  #000000;\n",
       "        }#T_498ed_row10_col11{\n",
       "            background-color:  #04649d;\n",
       "            color:  #f1f1f1;\n",
       "        }#T_498ed_row11_col1{\n",
       "            background-color:  #b4c4df;\n",
       "            color:  #000000;\n",
       "        }#T_498ed_row11_col5{\n",
       "            background-color:  #4a98c5;\n",
       "            color:  #000000;\n",
       "        }#T_498ed_row11_col6{\n",
       "            background-color:  #f7f0f7;\n",
       "            color:  #000000;\n",
       "        }#T_498ed_row11_col7{\n",
       "            background-color:  #cdd0e5;\n",
       "            color:  #000000;\n",
       "        }#T_498ed_row11_col10{\n",
       "            background-color:  #0566a0;\n",
       "            color:  #f1f1f1;\n",
       "        }#T_498ed_row12_col0{\n",
       "            background-color:  #d7d6e9;\n",
       "            color:  #000000;\n",
       "        }#T_498ed_row12_col4{\n",
       "            background-color:  #b3c3de;\n",
       "            color:  #000000;\n",
       "        }#T_498ed_row13_col2{\n",
       "            background-color:  #62a2cb;\n",
       "            color:  #000000;\n",
       "        }</style><table id=\"T_498ed_\" ><thead>    <tr>        <th class=\"blank level0\" ></th>        <th class=\"col_heading level0 col0\" >hdrs_cod</th>        <th class=\"col_heading level0 col1\" >weeks_sick_leave</th>        <th class=\"col_heading level0 col2\" >current_sick_leave</th>        <th class=\"col_heading level0 col3\" >age_illness_onset</th>        <th class=\"col_heading level0 col4\" >depre_episodes</th>        <th class=\"col_heading level0 col5\" >number_hospitalitzations</th>        <th class=\"col_heading level0 col6\" >clinical_stability</th>        <th class=\"col_heading level0 col7\" >history_psychotic_symp</th>        <th class=\"col_heading level0 col8\" >seasonal_pattern</th>        <th class=\"col_heading level0 col9\" >history_suicidal_ideation</th>        <th class=\"col_heading level0 col10\" >num_attempts</th>        <th class=\"col_heading level0 col11\" >severity_attempt</th>        <th class=\"col_heading level0 col12\" >family_hist_psychiatric</th>        <th class=\"col_heading level0 col13\" >family_hist_suicide</th>    </tr></thead><tbody>\n",
       "                <tr>\n",
       "                        <th id=\"T_498ed_level0_row0\" class=\"row_heading level0 row0\" >hdrs_cod</th>\n",
       "                        <td id=\"T_498ed_row0_col0\" class=\"data row0 col0\" >1.000000</td>\n",
       "                        <td id=\"T_498ed_row0_col1\" class=\"data row0 col1\" >0.206777</td>\n",
       "                        <td id=\"T_498ed_row0_col2\" class=\"data row0 col2\" >0.238954</td>\n",
       "                        <td id=\"T_498ed_row0_col3\" class=\"data row0 col3\" >-0.074137</td>\n",
       "                        <td id=\"T_498ed_row0_col4\" class=\"data row0 col4\" >0.238830</td>\n",
       "                        <td id=\"T_498ed_row0_col5\" class=\"data row0 col5\" >-0.054963</td>\n",
       "                        <td id=\"T_498ed_row0_col6\" class=\"data row0 col6\" >-0.173452</td>\n",
       "                        <td id=\"T_498ed_row0_col7\" class=\"data row0 col7\" >-0.131000</td>\n",
       "                        <td id=\"T_498ed_row0_col8\" class=\"data row0 col8\" >-0.169285</td>\n",
       "                        <td id=\"T_498ed_row0_col9\" class=\"data row0 col9\" >-0.215286</td>\n",
       "                        <td id=\"T_498ed_row0_col10\" class=\"data row0 col10\" >0.049357</td>\n",
       "                        <td id=\"T_498ed_row0_col11\" class=\"data row0 col11\" >0.088308</td>\n",
       "                        <td id=\"T_498ed_row0_col12\" class=\"data row0 col12\" >0.054885</td>\n",
       "                        <td id=\"T_498ed_row0_col13\" class=\"data row0 col13\" >0.072766</td>\n",
       "            </tr>\n",
       "            <tr>\n",
       "                        <th id=\"T_498ed_level0_row1\" class=\"row_heading level0 row1\" >weeks_sick_leave</th>\n",
       "                        <td id=\"T_498ed_row1_col0\" class=\"data row1 col0\" >0.206777</td>\n",
       "                        <td id=\"T_498ed_row1_col1\" class=\"data row1 col1\" >1.000000</td>\n",
       "                        <td id=\"T_498ed_row1_col2\" class=\"data row1 col2\" >0.341624</td>\n",
       "                        <td id=\"T_498ed_row1_col3\" class=\"data row1 col3\" >-0.030613</td>\n",
       "                        <td id=\"T_498ed_row1_col4\" class=\"data row1 col4\" >-0.045288</td>\n",
       "                        <td id=\"T_498ed_row1_col5\" class=\"data row1 col5\" >0.099814</td>\n",
       "                        <td id=\"T_498ed_row1_col6\" class=\"data row1 col6\" >0.240463</td>\n",
       "                        <td id=\"T_498ed_row1_col7\" class=\"data row1 col7\" >-0.145221</td>\n",
       "                        <td id=\"T_498ed_row1_col8\" class=\"data row1 col8\" >0.170759</td>\n",
       "                        <td id=\"T_498ed_row1_col9\" class=\"data row1 col9\" >-0.173646</td>\n",
       "                        <td id=\"T_498ed_row1_col10\" class=\"data row1 col10\" >0.146403</td>\n",
       "                        <td id=\"T_498ed_row1_col11\" class=\"data row1 col11\" >0.217744</td>\n",
       "                        <td id=\"T_498ed_row1_col12\" class=\"data row1 col12\" >0.071287</td>\n",
       "                        <td id=\"T_498ed_row1_col13\" class=\"data row1 col13\" >0.230199</td>\n",
       "            </tr>\n",
       "            <tr>\n",
       "                        <th id=\"T_498ed_level0_row2\" class=\"row_heading level0 row2\" >current_sick_leave</th>\n",
       "                        <td id=\"T_498ed_row2_col0\" class=\"data row2 col0\" >0.238954</td>\n",
       "                        <td id=\"T_498ed_row2_col1\" class=\"data row2 col1\" >0.341624</td>\n",
       "                        <td id=\"T_498ed_row2_col2\" class=\"data row2 col2\" >1.000000</td>\n",
       "                        <td id=\"T_498ed_row2_col3\" class=\"data row2 col3\" >-0.044374</td>\n",
       "                        <td id=\"T_498ed_row2_col4\" class=\"data row2 col4\" >0.087639</td>\n",
       "                        <td id=\"T_498ed_row2_col5\" class=\"data row2 col5\" >0.025496</td>\n",
       "                        <td id=\"T_498ed_row2_col6\" class=\"data row2 col6\" >0.243015</td>\n",
       "                        <td id=\"T_498ed_row2_col7\" class=\"data row2 col7\" >-0.400250</td>\n",
       "                        <td id=\"T_498ed_row2_col8\" class=\"data row2 col8\" >0.156573</td>\n",
       "                        <td id=\"T_498ed_row2_col9\" class=\"data row2 col9\" >0.013537</td>\n",
       "                        <td id=\"T_498ed_row2_col10\" class=\"data row2 col10\" >0.077485</td>\n",
       "                        <td id=\"T_498ed_row2_col11\" class=\"data row2 col11\" >0.022834</td>\n",
       "                        <td id=\"T_498ed_row2_col12\" class=\"data row2 col12\" >0.007290</td>\n",
       "                        <td id=\"T_498ed_row2_col13\" class=\"data row2 col13\" >0.352779</td>\n",
       "            </tr>\n",
       "            <tr>\n",
       "                        <th id=\"T_498ed_level0_row3\" class=\"row_heading level0 row3\" >age_illness_onset</th>\n",
       "                        <td id=\"T_498ed_row3_col0\" class=\"data row3 col0\" >-0.074137</td>\n",
       "                        <td id=\"T_498ed_row3_col1\" class=\"data row3 col1\" >-0.030613</td>\n",
       "                        <td id=\"T_498ed_row3_col2\" class=\"data row3 col2\" >-0.044374</td>\n",
       "                        <td id=\"T_498ed_row3_col3\" class=\"data row3 col3\" >1.000000</td>\n",
       "                        <td id=\"T_498ed_row3_col4\" class=\"data row3 col4\" >-0.431579</td>\n",
       "                        <td id=\"T_498ed_row3_col5\" class=\"data row3 col5\" >-0.295390</td>\n",
       "                        <td id=\"T_498ed_row3_col6\" class=\"data row3 col6\" >-0.041755</td>\n",
       "                        <td id=\"T_498ed_row3_col7\" class=\"data row3 col7\" >-0.066839</td>\n",
       "                        <td id=\"T_498ed_row3_col8\" class=\"data row3 col8\" >0.287361</td>\n",
       "                        <td id=\"T_498ed_row3_col9\" class=\"data row3 col9\" >0.242610</td>\n",
       "                        <td id=\"T_498ed_row3_col10\" class=\"data row3 col10\" >-0.265497</td>\n",
       "                        <td id=\"T_498ed_row3_col11\" class=\"data row3 col11\" >-0.312614</td>\n",
       "                        <td id=\"T_498ed_row3_col12\" class=\"data row3 col12\" >-0.063396</td>\n",
       "                        <td id=\"T_498ed_row3_col13\" class=\"data row3 col13\" >-0.077243</td>\n",
       "            </tr>\n",
       "            <tr>\n",
       "                        <th id=\"T_498ed_level0_row4\" class=\"row_heading level0 row4\" >depre_episodes</th>\n",
       "                        <td id=\"T_498ed_row4_col0\" class=\"data row4 col0\" >0.238830</td>\n",
       "                        <td id=\"T_498ed_row4_col1\" class=\"data row4 col1\" >-0.045288</td>\n",
       "                        <td id=\"T_498ed_row4_col2\" class=\"data row4 col2\" >0.087639</td>\n",
       "                        <td id=\"T_498ed_row4_col3\" class=\"data row4 col3\" >-0.431579</td>\n",
       "                        <td id=\"T_498ed_row4_col4\" class=\"data row4 col4\" >1.000000</td>\n",
       "                        <td id=\"T_498ed_row4_col5\" class=\"data row4 col5\" >0.353131</td>\n",
       "                        <td id=\"T_498ed_row4_col6\" class=\"data row4 col6\" >-0.228688</td>\n",
       "                        <td id=\"T_498ed_row4_col7\" class=\"data row4 col7\" >-0.161043</td>\n",
       "                        <td id=\"T_498ed_row4_col8\" class=\"data row4 col8\" >-0.446124</td>\n",
       "                        <td id=\"T_498ed_row4_col9\" class=\"data row4 col9\" >-0.424569</td>\n",
       "                        <td id=\"T_498ed_row4_col10\" class=\"data row4 col10\" >0.317704</td>\n",
       "                        <td id=\"T_498ed_row4_col11\" class=\"data row4 col11\" >0.210004</td>\n",
       "                        <td id=\"T_498ed_row4_col12\" class=\"data row4 col12\" >0.045033</td>\n",
       "                        <td id=\"T_498ed_row4_col13\" class=\"data row4 col13\" >0.127785</td>\n",
       "            </tr>\n",
       "            <tr>\n",
       "                        <th id=\"T_498ed_level0_row5\" class=\"row_heading level0 row5\" >number_hospitalitzations</th>\n",
       "                        <td id=\"T_498ed_row5_col0\" class=\"data row5 col0\" >-0.054963</td>\n",
       "                        <td id=\"T_498ed_row5_col1\" class=\"data row5 col1\" >0.099814</td>\n",
       "                        <td id=\"T_498ed_row5_col2\" class=\"data row5 col2\" >0.025496</td>\n",
       "                        <td id=\"T_498ed_row5_col3\" class=\"data row5 col3\" >-0.295390</td>\n",
       "                        <td id=\"T_498ed_row5_col4\" class=\"data row5 col4\" >0.353131</td>\n",
       "                        <td id=\"T_498ed_row5_col5\" class=\"data row5 col5\" >1.000000</td>\n",
       "                        <td id=\"T_498ed_row5_col6\" class=\"data row5 col6\" >-0.121356</td>\n",
       "                        <td id=\"T_498ed_row5_col7\" class=\"data row5 col7\" >0.008532</td>\n",
       "                        <td id=\"T_498ed_row5_col8\" class=\"data row5 col8\" >-0.280841</td>\n",
       "                        <td id=\"T_498ed_row5_col9\" class=\"data row5 col9\" >-0.234432</td>\n",
       "                        <td id=\"T_498ed_row5_col10\" class=\"data row5 col10\" >0.605699</td>\n",
       "                        <td id=\"T_498ed_row5_col11\" class=\"data row5 col11\" >0.463248</td>\n",
       "                        <td id=\"T_498ed_row5_col12\" class=\"data row5 col12\" >-0.030890</td>\n",
       "                        <td id=\"T_498ed_row5_col13\" class=\"data row5 col13\" >0.117753</td>\n",
       "            </tr>\n",
       "            <tr>\n",
       "                        <th id=\"T_498ed_level0_row6\" class=\"row_heading level0 row6\" >clinical_stability</th>\n",
       "                        <td id=\"T_498ed_row6_col0\" class=\"data row6 col0\" >-0.173452</td>\n",
       "                        <td id=\"T_498ed_row6_col1\" class=\"data row6 col1\" >0.240463</td>\n",
       "                        <td id=\"T_498ed_row6_col2\" class=\"data row6 col2\" >0.243015</td>\n",
       "                        <td id=\"T_498ed_row6_col3\" class=\"data row6 col3\" >-0.041755</td>\n",
       "                        <td id=\"T_498ed_row6_col4\" class=\"data row6 col4\" >-0.228688</td>\n",
       "                        <td id=\"T_498ed_row6_col5\" class=\"data row6 col5\" >-0.121356</td>\n",
       "                        <td id=\"T_498ed_row6_col6\" class=\"data row6 col6\" >1.000000</td>\n",
       "                        <td id=\"T_498ed_row6_col7\" class=\"data row6 col7\" >0.075830</td>\n",
       "                        <td id=\"T_498ed_row6_col8\" class=\"data row6 col8\" >0.112188</td>\n",
       "                        <td id=\"T_498ed_row6_col9\" class=\"data row6 col9\" >0.288635</td>\n",
       "                        <td id=\"T_498ed_row6_col10\" class=\"data row6 col10\" >-0.155518</td>\n",
       "                        <td id=\"T_498ed_row6_col11\" class=\"data row6 col11\" >-0.157189</td>\n",
       "                        <td id=\"T_498ed_row6_col12\" class=\"data row6 col12\" >0.024090</td>\n",
       "                        <td id=\"T_498ed_row6_col13\" class=\"data row6 col13\" >0.097625</td>\n",
       "            </tr>\n",
       "            <tr>\n",
       "                        <th id=\"T_498ed_level0_row7\" class=\"row_heading level0 row7\" >history_psychotic_symp</th>\n",
       "                        <td id=\"T_498ed_row7_col0\" class=\"data row7 col0\" >-0.131000</td>\n",
       "                        <td id=\"T_498ed_row7_col1\" class=\"data row7 col1\" >-0.145221</td>\n",
       "                        <td id=\"T_498ed_row7_col2\" class=\"data row7 col2\" >-0.400250</td>\n",
       "                        <td id=\"T_498ed_row7_col3\" class=\"data row7 col3\" >-0.066839</td>\n",
       "                        <td id=\"T_498ed_row7_col4\" class=\"data row7 col4\" >-0.161043</td>\n",
       "                        <td id=\"T_498ed_row7_col5\" class=\"data row7 col5\" >0.008532</td>\n",
       "                        <td id=\"T_498ed_row7_col6\" class=\"data row7 col6\" >0.075830</td>\n",
       "                        <td id=\"T_498ed_row7_col7\" class=\"data row7 col7\" >1.000000</td>\n",
       "                        <td id=\"T_498ed_row7_col8\" class=\"data row7 col8\" >-0.099441</td>\n",
       "                        <td id=\"T_498ed_row7_col9\" class=\"data row7 col9\" >0.174534</td>\n",
       "                        <td id=\"T_498ed_row7_col10\" class=\"data row7 col10\" >-0.072048</td>\n",
       "                        <td id=\"T_498ed_row7_col11\" class=\"data row7 col11\" >-0.035952</td>\n",
       "                        <td id=\"T_498ed_row7_col12\" class=\"data row7 col12\" >-0.187259</td>\n",
       "                        <td id=\"T_498ed_row7_col13\" class=\"data row7 col13\" >-0.281070</td>\n",
       "            </tr>\n",
       "            <tr>\n",
       "                        <th id=\"T_498ed_level0_row8\" class=\"row_heading level0 row8\" >seasonal_pattern</th>\n",
       "                        <td id=\"T_498ed_row8_col0\" class=\"data row8 col0\" >-0.169285</td>\n",
       "                        <td id=\"T_498ed_row8_col1\" class=\"data row8 col1\" >0.170759</td>\n",
       "                        <td id=\"T_498ed_row8_col2\" class=\"data row8 col2\" >0.156573</td>\n",
       "                        <td id=\"T_498ed_row8_col3\" class=\"data row8 col3\" >0.287361</td>\n",
       "                        <td id=\"T_498ed_row8_col4\" class=\"data row8 col4\" >-0.446124</td>\n",
       "                        <td id=\"T_498ed_row8_col5\" class=\"data row8 col5\" >-0.280841</td>\n",
       "                        <td id=\"T_498ed_row8_col6\" class=\"data row8 col6\" >0.112188</td>\n",
       "                        <td id=\"T_498ed_row8_col7\" class=\"data row8 col7\" >-0.099441</td>\n",
       "                        <td id=\"T_498ed_row8_col8\" class=\"data row8 col8\" >1.000000</td>\n",
       "                        <td id=\"T_498ed_row8_col9\" class=\"data row8 col9\" >0.097045</td>\n",
       "                        <td id=\"T_498ed_row8_col10\" class=\"data row8 col10\" >-0.093104</td>\n",
       "                        <td id=\"T_498ed_row8_col11\" class=\"data row8 col11\" >-0.211208</td>\n",
       "                        <td id=\"T_498ed_row8_col12\" class=\"data row8 col12\" >0.065560</td>\n",
       "                        <td id=\"T_498ed_row8_col13\" class=\"data row8 col13\" >0.058479</td>\n",
       "            </tr>\n",
       "            <tr>\n",
       "                        <th id=\"T_498ed_level0_row9\" class=\"row_heading level0 row9\" >history_suicidal_ideation</th>\n",
       "                        <td id=\"T_498ed_row9_col0\" class=\"data row9 col0\" >-0.215286</td>\n",
       "                        <td id=\"T_498ed_row9_col1\" class=\"data row9 col1\" >-0.173646</td>\n",
       "                        <td id=\"T_498ed_row9_col2\" class=\"data row9 col2\" >0.013537</td>\n",
       "                        <td id=\"T_498ed_row9_col3\" class=\"data row9 col3\" >0.242610</td>\n",
       "                        <td id=\"T_498ed_row9_col4\" class=\"data row9 col4\" >-0.424569</td>\n",
       "                        <td id=\"T_498ed_row9_col5\" class=\"data row9 col5\" >-0.234432</td>\n",
       "                        <td id=\"T_498ed_row9_col6\" class=\"data row9 col6\" >0.288635</td>\n",
       "                        <td id=\"T_498ed_row9_col7\" class=\"data row9 col7\" >0.174534</td>\n",
       "                        <td id=\"T_498ed_row9_col8\" class=\"data row9 col8\" >0.097045</td>\n",
       "                        <td id=\"T_498ed_row9_col9\" class=\"data row9 col9\" >1.000000</td>\n",
       "                        <td id=\"T_498ed_row9_col10\" class=\"data row9 col10\" >-0.347380</td>\n",
       "                        <td id=\"T_498ed_row9_col11\" class=\"data row9 col11\" >-0.451795</td>\n",
       "                        <td id=\"T_498ed_row9_col12\" class=\"data row9 col12\" >-0.026528</td>\n",
       "                        <td id=\"T_498ed_row9_col13\" class=\"data row9 col13\" >-0.140335</td>\n",
       "            </tr>\n",
       "            <tr>\n",
       "                        <th id=\"T_498ed_level0_row10\" class=\"row_heading level0 row10\" >num_attempts</th>\n",
       "                        <td id=\"T_498ed_row10_col0\" class=\"data row10 col0\" >0.049357</td>\n",
       "                        <td id=\"T_498ed_row10_col1\" class=\"data row10 col1\" >0.146403</td>\n",
       "                        <td id=\"T_498ed_row10_col2\" class=\"data row10 col2\" >0.077485</td>\n",
       "                        <td id=\"T_498ed_row10_col3\" class=\"data row10 col3\" >-0.265497</td>\n",
       "                        <td id=\"T_498ed_row10_col4\" class=\"data row10 col4\" >0.317704</td>\n",
       "                        <td id=\"T_498ed_row10_col5\" class=\"data row10 col5\" >0.605699</td>\n",
       "                        <td id=\"T_498ed_row10_col6\" class=\"data row10 col6\" >-0.155518</td>\n",
       "                        <td id=\"T_498ed_row10_col7\" class=\"data row10 col7\" >-0.072048</td>\n",
       "                        <td id=\"T_498ed_row10_col8\" class=\"data row10 col8\" >-0.093104</td>\n",
       "                        <td id=\"T_498ed_row10_col9\" class=\"data row10 col9\" >-0.347380</td>\n",
       "                        <td id=\"T_498ed_row10_col10\" class=\"data row10 col10\" >1.000000</td>\n",
       "                        <td id=\"T_498ed_row10_col11\" class=\"data row10 col11\" >0.738236</td>\n",
       "                        <td id=\"T_498ed_row10_col12\" class=\"data row10 col12\" >0.030186</td>\n",
       "                        <td id=\"T_498ed_row10_col13\" class=\"data row10 col13\" >0.269167</td>\n",
       "            </tr>\n",
       "            <tr>\n",
       "                        <th id=\"T_498ed_level0_row11\" class=\"row_heading level0 row11\" >severity_attempt</th>\n",
       "                        <td id=\"T_498ed_row11_col0\" class=\"data row11 col0\" >0.088308</td>\n",
       "                        <td id=\"T_498ed_row11_col1\" class=\"data row11 col1\" >0.217744</td>\n",
       "                        <td id=\"T_498ed_row11_col2\" class=\"data row11 col2\" >0.022834</td>\n",
       "                        <td id=\"T_498ed_row11_col3\" class=\"data row11 col3\" >-0.312614</td>\n",
       "                        <td id=\"T_498ed_row11_col4\" class=\"data row11 col4\" >0.210004</td>\n",
       "                        <td id=\"T_498ed_row11_col5\" class=\"data row11 col5\" >0.463248</td>\n",
       "                        <td id=\"T_498ed_row11_col6\" class=\"data row11 col6\" >-0.157189</td>\n",
       "                        <td id=\"T_498ed_row11_col7\" class=\"data row11 col7\" >-0.035952</td>\n",
       "                        <td id=\"T_498ed_row11_col8\" class=\"data row11 col8\" >-0.211208</td>\n",
       "                        <td id=\"T_498ed_row11_col9\" class=\"data row11 col9\" >-0.451795</td>\n",
       "                        <td id=\"T_498ed_row11_col10\" class=\"data row11 col10\" >0.738236</td>\n",
       "                        <td id=\"T_498ed_row11_col11\" class=\"data row11 col11\" >1.000000</td>\n",
       "                        <td id=\"T_498ed_row11_col12\" class=\"data row11 col12\" >-0.011652</td>\n",
       "                        <td id=\"T_498ed_row11_col13\" class=\"data row11 col13\" >0.210995</td>\n",
       "            </tr>\n",
       "            <tr>\n",
       "                        <th id=\"T_498ed_level0_row12\" class=\"row_heading level0 row12\" >family_hist_psychiatric</th>\n",
       "                        <td id=\"T_498ed_row12_col0\" class=\"data row12 col0\" >0.054885</td>\n",
       "                        <td id=\"T_498ed_row12_col1\" class=\"data row12 col1\" >0.071287</td>\n",
       "                        <td id=\"T_498ed_row12_col2\" class=\"data row12 col2\" >0.007290</td>\n",
       "                        <td id=\"T_498ed_row12_col3\" class=\"data row12 col3\" >-0.063396</td>\n",
       "                        <td id=\"T_498ed_row12_col4\" class=\"data row12 col4\" >0.045033</td>\n",
       "                        <td id=\"T_498ed_row12_col5\" class=\"data row12 col5\" >-0.030890</td>\n",
       "                        <td id=\"T_498ed_row12_col6\" class=\"data row12 col6\" >0.024090</td>\n",
       "                        <td id=\"T_498ed_row12_col7\" class=\"data row12 col7\" >-0.187259</td>\n",
       "                        <td id=\"T_498ed_row12_col8\" class=\"data row12 col8\" >0.065560</td>\n",
       "                        <td id=\"T_498ed_row12_col9\" class=\"data row12 col9\" >-0.026528</td>\n",
       "                        <td id=\"T_498ed_row12_col10\" class=\"data row12 col10\" >0.030186</td>\n",
       "                        <td id=\"T_498ed_row12_col11\" class=\"data row12 col11\" >-0.011652</td>\n",
       "                        <td id=\"T_498ed_row12_col12\" class=\"data row12 col12\" >1.000000</td>\n",
       "                        <td id=\"T_498ed_row12_col13\" class=\"data row12 col13\" >0.232293</td>\n",
       "            </tr>\n",
       "            <tr>\n",
       "                        <th id=\"T_498ed_level0_row13\" class=\"row_heading level0 row13\" >family_hist_suicide</th>\n",
       "                        <td id=\"T_498ed_row13_col0\" class=\"data row13 col0\" >0.072766</td>\n",
       "                        <td id=\"T_498ed_row13_col1\" class=\"data row13 col1\" >0.230199</td>\n",
       "                        <td id=\"T_498ed_row13_col2\" class=\"data row13 col2\" >0.352779</td>\n",
       "                        <td id=\"T_498ed_row13_col3\" class=\"data row13 col3\" >-0.077243</td>\n",
       "                        <td id=\"T_498ed_row13_col4\" class=\"data row13 col4\" >0.127785</td>\n",
       "                        <td id=\"T_498ed_row13_col5\" class=\"data row13 col5\" >0.117753</td>\n",
       "                        <td id=\"T_498ed_row13_col6\" class=\"data row13 col6\" >0.097625</td>\n",
       "                        <td id=\"T_498ed_row13_col7\" class=\"data row13 col7\" >-0.281070</td>\n",
       "                        <td id=\"T_498ed_row13_col8\" class=\"data row13 col8\" >0.058479</td>\n",
       "                        <td id=\"T_498ed_row13_col9\" class=\"data row13 col9\" >-0.140335</td>\n",
       "                        <td id=\"T_498ed_row13_col10\" class=\"data row13 col10\" >0.269167</td>\n",
       "                        <td id=\"T_498ed_row13_col11\" class=\"data row13 col11\" >0.210995</td>\n",
       "                        <td id=\"T_498ed_row13_col12\" class=\"data row13 col12\" >0.232293</td>\n",
       "                        <td id=\"T_498ed_row13_col13\" class=\"data row13 col13\" >1.000000</td>\n",
       "            </tr>\n",
       "    </tbody></table>"
      ],
      "text/plain": [
       "<pandas.io.formats.style.Styler at 0x16f366ac580>"
      ]
     },
     "execution_count": 46,
     "metadata": {},
     "output_type": "execute_result"
    }
   ],
   "source": [
    "trainx_cl.columns=train_cl.columns\n",
    "testx_cl.columns=test_cl.columns\n",
    "trainx_cl.index=trainx.index.values\n",
    "testx_cl.index=testx.index.values\n",
    "\n",
    "trainxs_cl=pd.concat([trainx, trainx_cl], axis=1, join='inner')\n",
    "testxs_cl=pd.concat([testx, testx_cl], axis=1, join='inner')\n",
    "\n",
    "trainx_cll=trainxs_cl[trainy.isin([\"rem.clinica\",\"rem.parcial\"])]\n",
    "testx_cll=testxs_cl[testy.isin([\"rem.clinica\",\"rem.parcial\"])]\n",
    "\n",
    "corr_cl=pd.DataFrame(np.corrcoef([trainy_nb.map(dictib),trainx_cll[\"weeks_sick_leave\"],trainx_cll[\"current_sick_leave\"],trainx_cll[\"age_illness_onset\"],trainx_cll[\"depre_episodes\"],trainx_cll[\"number_hospitalitzations\"],trainx_cll[\"clinical_stability\"],trainx_cll[\"history_psychotic_symp\"],trainx_cll[\"seasonal_pattern\"],trainx_cll[\"history_suicidal_ideation\"],trainx_cll[\"num_attempts\"],trainx_cll[\"severity_attempt\"],trainx_cll[\"family_hist_psychiatric\"],trainx_cll[\"family_hist_suicide\"]])) #si hi ha NAs no ens el fara: o imputem o prescindim dels NAs\n",
    "corr_cl.columns=[\"hdrs_cod\", \"weeks_sick_leave\",\"current_sick_leave\",\"age_illness_onset\",\"depre_episodes\",\"number_hospitalitzations\",\"clinical_stability\",\"history_psychotic_symp\",\"seasonal_pattern\",\"history_suicidal_ideation\",\"num_attempts\",\"severity_attempt\",\"family_hist_psychiatric\",\"family_hist_suicide\"]\n",
    "corr_cl.index=[\"hdrs_cod\", \"weeks_sick_leave\",\"current_sick_leave\",\"age_illness_onset\",\"depre_episodes\",\"number_hospitalitzations\",\"clinical_stability\",\"history_psychotic_symp\",\"seasonal_pattern\",\"history_suicidal_ideation\",\"num_attempts\",\"severity_attempt\",\"family_hist_psychiatric\",\"family_hist_suicide\"]\n",
    "corr_cl.style.background_gradient()"
   ]
  },
  {
   "cell_type": "markdown",
   "metadata": {},
   "source": [
    "La tutora considera important tenir en compte alguna de les variables clíniques com *nombre d'episodis previs*, *clinical_stability*..."
   ]
  },
  {
   "cell_type": "code",
   "execution_count": 47,
   "metadata": {},
   "outputs": [],
   "source": [
    "trainxs_cls=pd.concat([trainx, trainx_cl[\"clinical_stability\"], trainx_cl[\"seasonal_pattern\"], trainx_cl[\"depre_episodes\"], trainx_cl[\"current_sick_leave\"]], axis=1, join='inner')\n",
    "testxs_cls=pd.concat([testx, testx_cl[\"clinical_stability\"], testx_cl[\"seasonal_pattern\"], testx_cl[\"depre_episodes\"], testx_cl[\"current_sick_leave\"]], axis=1, join='inner')\n",
    "#trainxs_cls=pd.concat([trainx, trainx_cl[\"history_suicidal_ideation\"], trainx_cl[\"seasonal_pattern\"]], axis=1, join='inner')\n",
    "#testxs_cls=pd.concat([testx, testx_cl[\"history_suicidal_ideation\"], testx_cl[\"seasonal_pattern\"]], axis=1, join='inner')\n",
    "\n",
    "\n",
    "#LES PASSEM A DUMMIES\n",
    "spat={1:1, 2:0} #yes - no\n",
    "\n",
    "trainxs_cls.seasonal_pattern = trainxs_cls[\"seasonal_pattern\"].map(spat)#.astype(\"category\")\n",
    "testxs_cls.seasonal_pattern = testxs_cls[\"seasonal_pattern\"].map(spat)#.astype(\"category\")\n",
    "\n",
    "trainxs_cls.history_psychotic_symp = trainxs_cls[\"current_sick_leave\"].map(spat)#.astype(\"category\")\n",
    "testxs_cls.history_psychotic_symp = testxs_cls[\"current_sick_leave\"].map(spat)#.astype(\"category\")"
   ]
  },
  {
   "cell_type": "code",
   "execution_count": 48,
   "metadata": {},
   "outputs": [],
   "source": [
    "datacl=pd.concat([pd.concat([trainxs_cls, testxs_cls], axis=0, join='inner'),pd.concat([trainy_nb, testy_nb], axis=0, join='inner')], axis=1, join=\"inner\")\n",
    "datacl.to_csv('datacl.csv', header=True, index=False)"
   ]
  },
  {
   "cell_type": "code",
   "execution_count": 49,
   "metadata": {},
   "outputs": [
    {
     "name": "stdout",
     "output_type": "stream",
     "text": [
      "Model predictiu: LogReg\n",
      "[[10  2]\n",
      " [ 2  4]]\n",
      "accuracy 0.7777777777777778\n",
      "f1-score 0.7777777777777778\n",
      "              precision    recall  f1-score   support\n",
      "\n",
      "     control       0.83      0.83      0.83        12\n",
      "     pacient       0.67      0.67      0.67         6\n",
      "\n",
      "    accuracy                           0.78        18\n",
      "   macro avg       0.75      0.75      0.75        18\n",
      "weighted avg       0.78      0.78      0.78        18\n",
      "\n"
     ]
    }
   ],
   "source": [
    "model_cp(trainxs_cls[trainy.isin([\"rem.clinica\",\"rem.parcial\"])], trainy_nb, testxs_cls[testy.isin([\"rem.clinica\",\"rem.parcial\"])], testy_nb, \"LogReg\")"
   ]
  },
  {
   "cell_type": "code",
   "execution_count": 50,
   "metadata": {},
   "outputs": [
    {
     "name": "stdout",
     "output_type": "stream",
     "text": [
      "Model predictiu: SVC\n",
      "[[11  1]\n",
      " [ 3  3]]\n",
      "accuracy 0.7777777777777778\n",
      "f1-score 0.764102564102564\n",
      "              precision    recall  f1-score   support\n",
      "\n",
      "     control       0.79      0.92      0.85        12\n",
      "     pacient       0.75      0.50      0.60         6\n",
      "\n",
      "    accuracy                           0.78        18\n",
      "   macro avg       0.77      0.71      0.72        18\n",
      "weighted avg       0.77      0.78      0.76        18\n",
      "\n"
     ]
    }
   ],
   "source": [
    "model_cp(trainxs_cls[trainy.isin([\"rem.clinica\",\"rem.parcial\"])], trainy_nb, testxs_cls[testy.isin([\"rem.clinica\",\"rem.parcial\"])], testy_nb, \"SVC\")"
   ]
  },
  {
   "cell_type": "markdown",
   "metadata": {},
   "source": [
    "### Definim els dos models definitius per a predir nous casos\n",
    "\n",
    "Definim la funció que ens guardarà automàticament el model entrenat per poder carregar-lo posteriorment. Entrenem els models amb totes les dades, ja que ja hem fet la validation.\n",
    "- Model inicial (classifiquem entre controls i pacients: **SVC** (Support Vector Classification)\n",
    "- Model secundari per a poder classificar entre pacients en remissió i no recuperats (si s'escau): Regressió logística"
   ]
  },
  {
   "cell_type": "code",
   "execution_count": 51,
   "metadata": {},
   "outputs": [],
   "source": [
    "def model_def(trainx,trainy,testx,testy,mod):\n",
    "    \n",
    "    if mod==\"SVC\":\n",
    "        clf=SVC(kernel=\"linear\",C=0.05)#svm\n",
    "    elif mod==\"LogReg\":\n",
    "         clf=LogisticRegression(solver=\"newton-cg\", C=0.1)\n",
    " \n",
    "    else:\n",
    "        print(\"Command doesn't exist.\")\n",
    "    \n",
    "    #entrenem\n",
    "    clf.fit(trainx,trainy)\n",
    "    return(clf)"
   ]
  },
  {
   "cell_type": "code",
   "execution_count": 52,
   "metadata": {},
   "outputs": [],
   "source": [
    "import pickle"
   ]
  },
  {
   "cell_type": "code",
   "execution_count": 53,
   "metadata": {},
   "outputs": [],
   "source": [
    "def model_def_s(mod, numero):\n",
    "    model_s=\"model\"+str(numero)+\".sav\"\n",
    "    pickle.dump(mod,open(model_s, \"wb\"))"
   ]
  },
  {
   "cell_type": "markdown",
   "metadata": {},
   "source": [
    "### Model per classificació control- pacient"
   ]
  },
  {
   "cell_type": "code",
   "execution_count": 54,
   "metadata": {},
   "outputs": [],
   "source": [
    "dictic={\"control\":\"control\", \"rem.clinica\":\"pacient\", \"rem.parcial\":\"pacient\"}\n",
    "trainy_gb=trainy.map(dictic)\n",
    "testy_gb=testy.map(dictic)\n",
    "\n",
    "\n",
    "model_def_s(model_def(trainx, trainy_gb, testx, testy_gb, \"SVC\"),1)"
   ]
  },
  {
   "cell_type": "markdown",
   "metadata": {},
   "source": [
    "### Model per classificació  pacient rem.clínica- rem.parcial "
   ]
  },
  {
   "cell_type": "code",
   "execution_count": 55,
   "metadata": {},
   "outputs": [],
   "source": [
    "trainx_nb=trainx[trainy.isin([\"rem.clinica\",\"rem.parcial\"])]\n",
    "trainy_nb=trainy[trainy.isin([\"rem.clinica\",\"rem.parcial\"])]\n",
    "testx_nb=testx[testy.isin([\"rem.clinica\",\"rem.parcial\"])]\n",
    "testy_nb=testy[testy.isin([\"rem.clinica\",\"rem.parcial\"])]\n",
    "\n",
    "model_def_s(model_def(trainx_nb, trainy_nb, testx_nb, testy_nb, \"LogReg\"), 2)"
   ]
  },
  {
   "cell_type": "code",
   "execution_count": 56,
   "metadata": {},
   "outputs": [],
   "source": [
    "trainxs_cls=pd.concat([trainx, trainx_cl[\"clinical_stability\"], trainx_cl[\"seasonal_pattern\"], trainx_cl[\"depre_episodes\"], trainx_cl[\"current_sick_leave\"]], axis=1, join='inner')\n",
    "testxs_cls=pd.concat([testx, testx_cl[\"clinical_stability\"], testx_cl[\"seasonal_pattern\"], testx_cl[\"depre_episodes\"], testx_cl[\"current_sick_leave\"]], axis=1, join='inner')\n",
    "#trainxs_cls=pd.concat([trainx, trainx_cl[\"history_suicidal_ideation\"], trainx_cl[\"seasonal_pattern\"]], axis=1, join='inner')\n",
    "#testxs_cls=pd.concat([testx, testx_cl[\"history_suicidal_ideation\"], testx_cl[\"seasonal_pattern\"]], axis=1, join='inner')\n",
    "\n",
    "\n",
    "#LES PASSEM A DUMMIES\n",
    "spat={1:1, 2:0} #yes - no\n",
    "\n",
    "trainxs_cls.seasonal_pattern = trainxs_cls[\"seasonal_pattern\"].map(spat)#.astype(\"category\")\n",
    "testxs_cls.seasonal_pattern = testxs_cls[\"seasonal_pattern\"].map(spat)#.astype(\"category\")\n",
    "\n",
    "trainxs_cls.history_psychotic_symp = trainxs_cls[\"current_sick_leave\"].map(spat)#.astype(\"category\")\n",
    "testxs_cls.history_psychotic_symp = testxs_cls[\"current_sick_leave\"].map(spat)#.astype(\"category\")"
   ]
  },
  {
   "cell_type": "code",
   "execution_count": 57,
   "metadata": {},
   "outputs": [
    {
     "data": {
      "text/plain": [
       "<AxesSubplot:>"
      ]
     },
     "execution_count": 57,
     "metadata": {},
     "output_type": "execute_result"
    },
    {
     "data": {
      "text/plain": [
       "<Figure size 720x1440 with 0 Axes>"
      ]
     },
     "metadata": {},
     "output_type": "display_data"
    },
    {
     "data": {
      "image/png": "[encoded data removed]",
      "text/plain": [
       "<Figure size 432x504 with 1 Axes>"
      ]
     },
     "metadata": {},
     "output_type": "display_data"
    }
   ],
   "source": [
    "###Representacio grafica rellevancia variables predictores model pacients\n",
    "sns.set_theme(style=\"whitegrid\" , rc={\"figure.figsize\":(6, 7)})\n",
    "importance = model_def(trainxs_cls[trainy.isin([\"rem.clinica\",\"rem.parcial\"])], trainy_nb, testxs_cls[testy.isin([\"rem.clinica\",\"rem.parcial\"])], testy_nb, \"LogReg\").coef_[0]\n",
    "\n",
    "importa=pd.DataFrame(importance)\n",
    "importa.index=[\"Estimated IQ\",\"Verbal learning (trial 1)\",\"Verbal learning (trial 5)\",\"Verbal learning (total)\",\"Verbal learning (delayed)\", \"Digit forward\",\"Digit backward\", \"Trail Making Test A\", \n",
    "                       \"Trail Making Test B\", \"Complex figure copy\", \"Complex figure delayed\",\"Phonemic fluency\",\"Semantic fluency\",\"WCST perseverative error\",\n",
    "               \"Age\", \"Sex\", \"Years schooling\", \"Physical exercise\", \"Medical psychiatric history\", \"BDNF\", \"Protein carbonyl\", \"Glutathione\", \"Clinical stability\", \"Seasonal pattern\", \"Depressive episodes\", \"Current sick leave\"]\n",
    "      \n",
    "\n",
    "plt.figure(figsize=(10,20))    \n",
    "abs(importa).sort_values(by=[0]).plot(kind=\"barh\",color=\"darkred\", legend=False)"
   ]
  },
  {
   "cell_type": "code",
   "execution_count": 58,
   "metadata": {},
   "outputs": [],
   "source": [
    "###GUARDEM\n",
    "model_def_s(model_def(trainxs_cls[trainy.isin([\"rem.clinica\",\"rem.parcial\"])], trainy_nb, testxs_cls[testy.isin([\"rem.clinica\",\"rem.parcial\"])], testy_nb, \"LogReg\"), 3)"
   ]
  },
  {
   "cell_type": "markdown",
   "metadata": {},
   "source": [
    "#### Carreguem els models guardats per usar-los en el TKInter"
   ]
  },
  {
   "cell_type": "code",
   "execution_count": 59,
   "metadata": {},
   "outputs": [],
   "source": [
    "model1=pickle.load(open(\"model1.sav\",\"rb\")) #control- pacients\n",
    "\n",
    "model2=pickle.load(open(\"model2.sav\",\"rb\")) #pacients\n",
    "\n",
    "model3=pickle.load(open(\"model3.sav\",\"rb\")) #clinic pacients"
   ]
  },
  {
   "cell_type": "markdown",
   "metadata": {},
   "source": [
    "### Precisió prediccions segons el nombre d'espais en blanc que es deixen (n mitjà de valors faltants)\n",
    "- Agafem el conjunt test i calculem l'accuracy per la mitjana del nombre de missings: agafem el conjunt test i per cada cas, substituim n valors (n variables) aleatòriament. Es repeteix 100 vegades el procés per obtenir una mitjana.\n",
    "D'aquesta manera calculem \"mitjanament\" l'accuracy per una mitjana de n missings en un cas predit. Els valors missings els imputarem amb el pipeline."
   ]
  },
  {
   "cell_type": "markdown",
   "metadata": {},
   "source": [
    "Accuracy mitja pel valors faltants del model de support vector classifier (controls-pacients)"
   ]
  },
  {
   "cell_type": "code",
   "execution_count": 60,
   "metadata": {},
   "outputs": [],
   "source": [
    "import random\n",
    "random.seed(44)\n",
    "\n",
    "# Controls-pacients\n",
    "pos_var=range(0,len(testx.columns))\n",
    "nNA=range(0,20)#len(testx.columns))\n",
    "rows=range(0,len(testx.index))\n",
    "acc1=list()\n",
    "\n",
    "mitj=range(0,100)\n",
    "nn1=list()\n",
    "\n",
    "for n in nNA:\n",
    "    case=pd.DataFrame(testx.to_numpy(copy=True))\n",
    "    for m in mitj:\n",
    "        case=pd.DataFrame(testx.to_numpy(copy=True))\n",
    "        for c in rows:\n",
    "            posNA=random.sample(pos_var, n) #que retorni les variables (posicio) segons el nombre de missings\n",
    "            case.iloc[c][posNA]=np.nan\n",
    "        case.columns=[\"age\", \"sex\", \"years_schooling\", \"physical_exercise\", \"medical_psychiatric_history\",\"T_vocab\",\"CVLT_trial1\",\"CVLT_trial5\",\"CVLT_total\",\"CVLT_delayed\", \"DIGIT_forward\",\"DIGIT_backward\", \"TMTA_sec\", \n",
    "                       \"TMTB_sec\", \"ROCF_copy\", \"ROCF_delayed\",\"FLUENCY_phonemic\",\"FLUENCY_semantic\",\"WCST_perseverative_error\", \"BDNF\", \"protein_carbonyl\", \"glutathione\"]\n",
    "        casex=pd.DataFrame(pipeline.transform(case)) #han d'estar passats pel pip\n",
    "        acc1.append(model1.score(casex, testy_gb)) #save accuracy per fer plot\n",
    "        nn1.append((n+1))"
   ]
  },
  {
   "cell_type": "code",
   "execution_count": 61,
   "metadata": {},
   "outputs": [],
   "source": [
    "acc11=pd.DataFrame()\n",
    "acctest1=[model1.score(testx, testy_gb)]*100\n",
    "nas1=[0]*100\n",
    "acc11[\"Nas\"]=nas1+nn1\n",
    "acc11[\"accuracy\"]=acctest1+acc1"
   ]
  },
  {
   "cell_type": "markdown",
   "metadata": {},
   "source": [
    "Accuracy mitjà pel valors faltants del model de regressió logística (pacients)"
   ]
  },
  {
   "cell_type": "code",
   "execution_count": 63,
   "metadata": {},
   "outputs": [],
   "source": [
    "random.seed(44)\n",
    "\n",
    "pos_var=range(0,len(testx_nb.columns))\n",
    "nNA=range(0,20)\n",
    "rows=range(0,len(testx_nb.index))\n",
    "acc2=list()\n",
    "mitj=range(0,100)\n",
    "nn=list()\n",
    "\n",
    "for n in nNA:\n",
    "    case=pd.DataFrame(testx_nb.to_numpy(copy=True))\n",
    "    for m in mitj:\n",
    "        case=pd.DataFrame(testx_nb.to_numpy(copy=True))\n",
    "        for c in rows:\n",
    "            posNA=random.sample(pos_var, n) #que retorni les variables (posicio) segons el nombre de missings\n",
    "            case.iloc[c][posNA]=np.nan\n",
    "            case.columns=[\"age\", \"sex\", \"years_schooling\", \"physical_exercise\", \"medical_psychiatric_history\",\"T_vocab\",\"CVLT_trial1\",\"CVLT_trial5\",\"CVLT_total\",\"CVLT_delayed\", \"DIGIT_forward\",\"DIGIT_backward\", \"TMTA_sec\", \n",
    "                       \"TMTB_sec\", \"ROCF_copy\", \"ROCF_delayed\",\"FLUENCY_phonemic\",\"FLUENCY_semantic\",\"WCST_perseverative_error\", \"BDNF\", \"protein_carbonyl\", \"glutathione\"]\n",
    "        casex=pd.DataFrame(pipeline.transform(case)) #han d'estar passats pel pip\n",
    "        acc2.append(model2.score(casex, testy_nb)) #save accuracy per fer plot\n",
    "        nn.append(n+1)"
   ]
  },
  {
   "cell_type": "code",
   "execution_count": 64,
   "metadata": {},
   "outputs": [],
   "source": [
    "acc22=pd.DataFrame()\n",
    "acctest2=[model3.score(testxs_cls[testy.isin([\"rem.clinica\",\"rem.parcial\"])], testy_nb)] *100\n",
    "nas2=[0]*100\n",
    "acc22[\"Nas\"]=nas2+nn\n",
    "acc22[\"accuracy\"]=acctest2+acc2[::-1]"
   ]
  },
  {
   "cell_type": "code",
   "execution_count": 80,
   "metadata": {},
   "outputs": [
    {
     "data": {
      "text/plain": [
       "[Text(0, 0.5, 'mitjana (Accuracy)'), Text(0.5, 0, 'Nombre valors faltants')]"
      ]
     },
     "execution_count": 80,
     "metadata": {},
     "output_type": "execute_result"
    },
    {
     "data": {
      "image/png": "[encoded data removed]",
      "text/plain": [
       "<Figure size 432x360 with 1 Axes>"
      ]
     },
     "metadata": {},
     "output_type": "display_data"
    }
   ],
   "source": [
    "sns.set(rc={\"figure.figsize\":(6, 5)})\n",
    "sns.set_theme(style=\"whitegrid\" )#,palette=\"pastel\"\n",
    "\n",
    "# Plot the responses for different events and regions\n",
    "ax=sns.lineplot(x=\"Nas\", y=\"accuracy\", data=acc22, color=\"darkred\")\n",
    "\n",
    "sns.lineplot(x=\"Nas\", y=\"accuracy\", data=acc11, color=\"black\")\n",
    "            \n",
    "ax.set(ylim=(0,1))\n",
    "ax.set_xticks([0,5,10,15,20])\n",
    "#ax.set_\n",
    "ax.set(ylabel=\"mitjana (Accuracy)\", xlabel=\"Nombre valors faltants\")"
   ]
  },
  {
   "cell_type": "markdown",
   "metadata": {},
   "source": [
    "**El fet d'afegir variables CLÍNIQUES al model comporta que al formulari s'hauran de tenir en compte:**\n",
    "\n",
    "Pel que fa al model controls-pacients, controls tenen NA a aquestes variables: **Opció B**\n",
    "- Opció A: considerar aquesta variable i contemplar-la com a 0 (crec que pot tenir massa influencia i no serà bo\n",
    "- Opció B: a l'hora de modelar aquest 1r model, no tenir-la en compte al tk (agafar-la després)\n",
    "\n",
    "\n",
    "**Al TK inter s'ha acabat no tenint en compte les variables clíniques quan es modelen pacients i controls ja que a més a més el model separa molt bé  amb les variables que tenim. I en cas que es consideri que és pacient, tenir-les en compte en el model.**"
   ]
  },
  {
   "cell_type": "markdown",
   "metadata": {},
   "source": [
    "# TKInter"
   ]
  },
  {
   "cell_type": "code",
   "execution_count": 66,
   "metadata": {},
   "outputs": [],
   "source": [
    "#https://docs.python.org/3/library/tkinter.html\n",
    "from tkinter import *\n",
    "from tkinter import messagebox\n",
    "from tkinter import Tk, Label, Button\n",
    "from tkinter import ttk #pel combobox\n",
    "#https://documentation.help/Tcl-Tk/ttk_combobox.htm\n",
    "#https://www.delftstack.com/es/tutorial/tkinter-tutorial/tkinter-combobox/\n",
    "from tkinter.messagebox import showinfo\n",
    "from PIL import Image, ImageTk\n",
    "\n",
    "import pickle\n",
    "\n",
    "import math"
   ]
  },
  {
   "cell_type": "markdown",
   "metadata": {},
   "source": [
    "*https://www.bing.com/videos/search?q=pickle+python&docid=607999655031746315&mid=3C1298730ED5B458BF2E3C1298730ED5B458BF2E&view=detail&FORM=VIRE*\n"
   ]
  },
  {
   "cell_type": "markdown",
   "metadata": {},
   "source": [
    "Deifinim la funcio per predir dins el validate:"
   ]
  },
  {
   "cell_type": "code",
   "execution_count": 67,
   "metadata": {},
   "outputs": [],
   "source": [
    "def mod_pred1(newcase):\n",
    "    return(model1.predict(newcase))\n",
    "\n",
    "def mod_pred2(newcase):\n",
    "    return(model2.predict(newcase))\n",
    "\n",
    "def mod_pred3(newcase):\n",
    "    return(model3.predict(newcase))"
   ]
  },
  {
   "cell_type": "markdown",
   "metadata": {},
   "source": [
    "Per transformar les variables categoriques en numeriques per fer model (les combobox):"
   ]
  },
  {
   "cell_type": "code",
   "execution_count": 68,
   "metadata": {},
   "outputs": [],
   "source": [
    "def transform_sex(x):\n",
    "    if(x==\"Male\"):\n",
    "        x=0\n",
    "    else: x=1\n",
    "    return(x)\n",
    "\n",
    "def transform_med(x):\n",
    "    if(x==\"No\"):\n",
    "        x=0\n",
    "    else: x=1\n",
    "    return(x)\n",
    "\n",
    "def transform_ex(x):\n",
    "    if(x==\"Never\"):\n",
    "        x=0\n",
    "    else: \n",
    "        if(x==\"Once a week\"): \n",
    "            x=1 \n",
    "        else: \n",
    "            if(x==\"<=3 times a week\"):\n",
    "                x=2\n",
    "            else: x=3\n",
    "    return(x) "
   ]
  },
  {
   "cell_type": "markdown",
   "metadata": {},
   "source": [
    "Funció per fer la transformació logarítmica de la variable glutathione:"
   ]
  },
  {
   "cell_type": "code",
   "execution_count": 69,
   "metadata": {},
   "outputs": [],
   "source": [
    "def transform_log(x):\n",
    "    if type(x)==float or type(x)==int:\n",
    "        y=np.log10(x)\n",
    "        return y\n",
    "    else:\n",
    "        y=None\n",
    "        return y"
   ]
  },
  {
   "cell_type": "markdown",
   "metadata": {},
   "source": [
    "**Creem la funció per insertar a command: quan cliquem submit a tkinter**\n",
    "\n",
    "El que fem aqui es:\n",
    "  - crear una funcio que guardi els valors que s'han introduit de vada variable\n",
    "  - els guarda en un df que tindra una sola fila (=nou pacient)\n",
    "  - transformem els valors en el tipus de dada que toqui (num/string)\n",
    "  - passem la funcio del model que prediura el nou cas\n",
    "  - ens retorna el valor predit\n",
    "  - es valida el valor que s'entra i es permeten NAs \n",
    "  https://anzeljg.github.io/rin2/book2/2405/docs/tkinter/entry-validation.html#:~:text=Tkinter%20can%20also%20provide%20a%20number%20of%20items,each%20additional%20s%20i%20is%20a%20substitution%20code"
   ]
  },
  {
   "cell_type": "code",
   "execution_count": 70,
   "metadata": {},
   "outputs": [],
   "source": [
    "def nas(x):\n",
    "    if x==\"\":\n",
    "        y=None\n",
    "    else:\n",
    "        y=x\n",
    "        return(y)"
   ]
  },
  {
   "cell_type": "code",
   "execution_count": 71,
   "metadata": {},
   "outputs": [],
   "source": [
    "####radiobutton/checkbutton\n",
    "#https://www.youtube.com/watch?v=uqJZWLlnSqs\n",
    "\n",
    "def validate():\n",
    "    \n",
    "    print(\"Predicting value, please wait...\")\n",
    "    #messagebox.showinfo(\"Manual\", \"Values for each factor must be entered next to its label. \\n Press submit to see the prediction when you have completed the information \\n Please press accept to enter the values.\")\n",
    "     \n",
    "    newPatient=pd.DataFrame(columns=[\"age\",\"sex\",\"years_schooling\",\"physical_exercise\",\"medical_psychiatric_history\",\n",
    "                                     \"T_vocab\",\"CVLT_trial1\",\"CVLT_trial5\",\"CVLT_total\",\"CVLT_delayed\", \n",
    "                                     \"DIGIT_forward\",\"DIGIT_backward\", \"TMTA_sec\", \"TMTB_sec\", \"ROCF_copy\", \"ROCF_delayed\",\n",
    "                                     \"FLUENCY_phonemic\",\"FLUENCY_semantic\",\"WCST_perseverative_error\",\"BDNF\",\n",
    "                                     \"protein_carbonyl\",\"glutathione\",\"clinical_stability\" ,\"seasonal_pattern\", \"depre_episodes\", \"current_sick_leave\"], index=range(1))#\"TOTAL_FAST\"\n",
    "    \n",
    "    newPatient[\"age\"]=nas(age_value.get())\n",
    "    newPatient[\"sex\"]=transform_sex(sex_value.get())\n",
    "    newPatient[\"years_schooling\"]=nas(y_sch_value.get())\n",
    "    newPatient[\"physical_exercise\"]=transform_ex(ph_ex_value.get())\n",
    "    newPatient[\"medical_psychiatric_history\"]=transform_med(med_psy_value.get())\n",
    "    #newPatient[\"TOTAL_FAST\"]=int(fast_value.get())    \n",
    "    newPatient[\"T_vocab\"]=nas(voc_value.get())\n",
    "    newPatient[\"CVLT_trial1\"]=nas(Ct1_value.get())\n",
    "    newPatient[\"CVLT_trial5\"]=nas(Ct5_value.get())\n",
    "    newPatient[\"CVLT_total\"]=nas(Ct_value.get())\n",
    "    newPatient[\"CVLT_delayed\"]=nas(Cd_value.get())\n",
    "    newPatient[\"DIGIT_forward\"]=nas(df_value.get())\n",
    "    newPatient[\"DIGIT_backward\"]=nas(db_value.get())\n",
    "    newPatient[\"TMTA_sec\"]=nas(tmta_value.get())\n",
    "    newPatient[\"TMTB_sec\"]=nas(tmtb_value.get())\n",
    "    newPatient[\"ROCF_copy\"]=nas(Rc_value.get())\n",
    "    newPatient[\"ROCF_delayed\"]=nas(Rd_value.get())\n",
    "    newPatient[\"FLUENCY_phonemic\"]=nas(Fp_value.get())\n",
    "    newPatient[\"FLUENCY_semantic\"]=nas(Fs_value.get())\n",
    "    newPatient[\"WCST_perseverative_error\"]=nas(W_value.get())\n",
    "    newPatient[\"BDNF\"]=nas(bdnf_value.get())\n",
    "    newPatient[\"protein_carbonyl\"]=nas(pcc_value.get())\n",
    "    newPatient[\"glutathione\"]=nas(gl_value.get())\n",
    "    newPatient[\"clinical_stability\"]=nas(clstab_value.get())\n",
    "    newPatient[\"seasonal_pattern\"]=transform_med(sp_value.get())\n",
    "    newPatient[\"depre_episodes\"]=nas(depre_value.get())\n",
    "    newPatient[\"current_sick_leave\"]=transform_med(csi_value.get())\n",
    "    \n",
    "    newPatient[\"glutathione\"]=transform_log(newPatient[\"glutathione\"])\n",
    "    \n",
    "    hcnewPatient=newPatient.drop(columns=[\"clinical_stability\",\"seasonal_pattern\",\"depre_episodes\", \"current_sick_leave\"])\n",
    "    hcNewPatient=pipeline.transform(hcnewPatient)\n",
    "    proNewPatient=np.append(hcNewPatient, [newPatient[\"clinical_stability\"],newPatient[\"seasonal_pattern\"],newPatient[\"depre_episodes\"],newPatient[\"current_sick_leave\"]]).reshape(1,-1)\n",
    "           \n",
    "    print(\"Prediccio\", mod_pred1(hcNewPatient)[0]) #funcio amb el model\n",
    "    \n",
    "    if (mod_pred1(hcNewPatient)[0]==\"pacient\"):#[0] ens dona la prediccio\n",
    "        print(\"Prediccio\", mod_pred3(proNewPatient)[0])\n",
    "        \n",
    "        if(mod_pred3(proNewPatient)[0]==\"rem.parcial\"):\n",
    "             messagebox.showinfo(\"Prediction\", \"Patient in parcial remission\")\n",
    "        else:  \n",
    "            messagebox.showinfo(\"Prediction\", \"Patient in clinical remission\")\n",
    "    else:\n",
    "        messagebox.showinfo(\"Prediction\", \"Patient with no residual sympthoms\")\n",
    "            \n",
    "    return \"\""
   ]
  },
  {
   "cell_type": "markdown",
   "metadata": {},
   "source": [
    "https://www.youtube.com/watch?v=oRYshQCOHOs \n",
    "per poder fer un validate de les variables i permetre que estiguin en blanc"
   ]
  },
  {
   "cell_type": "code",
   "execution_count": 77,
   "metadata": {},
   "outputs": [
    {
     "name": "stdout",
     "output_type": "stream",
     "text": [
      "Predicting value, please wait...\n",
      "Prediccio pacient\n",
      "Prediccio rem.parcial\n"
     ]
    }
   ],
   "source": [
    "#https://www.youtube.com/watch?v=6NxhdS60494\n",
    "#https://www.geeksforgeeks.org/python-simple-registration-form-using-tkinter/?ref=rp\n",
    "#https://www.youtube.com/watch?v=95JrLWKy6-I\n",
    "\n",
    "#creem la finestra arrel (root)\n",
    "root=Tk()#gui window\n",
    "# set the background colour of GUI window\n",
    "root.configure(background=\"light gray\")\n",
    "  \n",
    "# set the title of GUI window\n",
    "root.title(\"Psychiatric form\")\n",
    "  \n",
    "# set the configuration of GUI window\n",
    "root.geometry(\"500x300\")\n",
    "\n",
    "#inicialitzem checkbuttons\n",
    "sex_value=StringVar()\n",
    "med_psy_value=StringVar()\n",
    "ph_ex_value=StringVar()\n",
    "sp_value=StringVar()\n",
    "csi_value=StringVar()\n",
    "\n",
    "\n",
    "#validation of the input values (allow missings)\n",
    "def validation_p(x):\n",
    "    if x.isdigit():\n",
    "        return(True)\n",
    "    elif x==\"\":\n",
    "        return True\n",
    "    else:\n",
    "        return(False)\n",
    "    \n",
    "def incorrect(x):\n",
    "    x=None\n",
    "    return(x)\n",
    "\n",
    "def on_float_entry_validate(x): #afegir decimals\n",
    "        if not x:\n",
    "            return True\n",
    "        if \".\" in x and len(x.split(\".\")[-1]) > 2:\n",
    "            return False\n",
    "        try:\n",
    "            float(x)\n",
    "        except ValueError:\n",
    "            return False\n",
    "        return True\n",
    "\n",
    "# create a Form label\n",
    "#heading = Label(root, text=\"FORM\", fg=\"white\",bg=\"green\")\n",
    "#heading.place(x=100, y=0)  \n",
    "\n",
    "sex = Label(root, text=\"Sex\", bg=\"light gray\")\n",
    "sex.place(x=10, y=20)\n",
    "#sex_male=Radiobutton(root, text=\"Male\", value=0, variable=sex_value).grid(row=2, column=2)\n",
    "#sex_fem=Radiobutton(root, text=\"Female\", value=1, variable=sex_value).grid(row=2, column=3)\n",
    "#sex_value = Entry(root, width=30)\n",
    "#sex_value.grid(row=2, column=2)\n",
    "sex_combo=ttk.Combobox(root, textvariable=sex_value,values=[\"Male\",\"Female\"])\n",
    "sex_combo.place(x=170, y=20)\n",
    "#sex_combo[\"values\"]=(0,1) \n",
    "\n",
    "# create Age label\n",
    "age = Label(root, text=\"Age\", bg=\"light gray\")\n",
    "age.place(x=10, y=40) #fins aqui ens apareix el nom de les labels\n",
    "    # create a text entry box\n",
    "    # for typing the information\n",
    "age_value = Entry(root, width=30)\n",
    "#register=register the function we callback\n",
    "#validate=key: validation occurs whenever any input from keyboard\n",
    "#‘%P’: passed to denote the value that the text will have if the change is allowed.\n",
    "#invalidcommand option that calls a function whenever the validatecommand returns False.\n",
    "age_value.config(validate=\"all\", validatecommand=(root.register(validation_p),\"%P\"), invalidcommand=(root.register(incorrect),\"%W\"))\n",
    "age_value.place(x=170, y=40)\n",
    "  \n",
    "y_sch = Label(root, text=\"Years schooling\", bg=\"light gray\")\n",
    "y_sch.place(x=10, y=60)\n",
    "y_sch_value = Entry(root, width=30)\n",
    "y_sch_value.place(x=170, y=60)\n",
    "y_sch_value.config(validate=\"all\", validatecommand=(root.register(validation_p),\"%P\"), invalidcommand=(root.register(incorrect),\"%W\"))\n",
    "\n",
    "ph_ex = Label(root, text=\"Physical Exercise\", bg=\"light gray\")\n",
    "ph_ex.place(x=10, y=80)\n",
    "ex_combo=ttk.Combobox(root, textvariable=ph_ex_value,\n",
    "                      values=[\"Never\",\"Once a week\",\"<=3 times a week\", \">3 times a week\"])\n",
    "ex_combo.place(x=170, y=80)\n",
    "#0= never\n",
    "#ph_never=Radiobutton(root, text=\"Never\", value=0, variable=ph_ex_value).grid(row=4, column=2)\n",
    "#1=once a week\n",
    "#ph_1=Radiobutton(root, text=\"Once a week\", value=1, variable=ph_ex_value).grid(row=4, column=3)\n",
    "#2= ≤ 3 times a week\n",
    "#ph_3=Radiobutton(root, text=\"less 3 a week\", value=2, variable=ph_ex_value).grid(row=4, column=4)\n",
    "#3= more than 3 times\n",
    "#ph_m3=Radiobutton(root, text=\"more 3 a week\", value=3, variable=ph_ex_value).grid(row=4, column=5)\n",
    "#ph_ex_value = Entry(root, width=30)\n",
    "#ph_ex_value.grid(row=4, column=2)\n",
    "    \n",
    "ct = Label(root, text=\"Cognitive tests\", bg=\"light gray\", fg=\"dark red\", font=(\"arial bold\", 10))\n",
    "ct.place(x=10, y=110) \n",
    "#ct1= Label(root, text=\"Puntuation ranges are specified next to each test.\",bg=\"light green\",fg=\"black\", font=(\"arial italic\", 8))\n",
    "#ct1.bind(font_config, text, \"Helvetica 9 italic\")\n",
    "           #\\n A maximum of 5 tests can be left in blank. \")\n",
    "ct1= Label(root, text=\"Puntuation range\",bg=\"light gray\",fg=\"dark red\", font=(\"arial italic\", 8))\n",
    "ct1.place(x=370, y=110) \n",
    "\n",
    "    # create a Semester label\n",
    "#fast = Label(root, text=\"TOTAL FAST\", bg=\"light green\")\n",
    "#fast.grid(row=6, column=0)\n",
    "#fast_value = Entry(root, width=30)\n",
    "#fast_value.grid(row=6, column=2)\n",
    "   \n",
    "voc = Label(root, text=\"Estimated IQ (T)\", bg=\"light gray\")\n",
    "voc.place(x=10, y=130)\n",
    "voc_value = Entry(root, width=30)\n",
    "voc_value.place(x=170, y=130)\n",
    "voc_value.config(validate=\"all\", validatecommand=(root.register(validation_p),\"%P\"), invalidcommand=(root.register(incorrect),\"%W\"))\n",
    "vocr=Label(root, text=\"20 - 30\", bg=\"light gray\")\n",
    "vocr.place(x=390, y=130)\n",
    "\n",
    "Ct1 = Label(root, text=\"Verbal learning trial 1\", bg=\"light gray\")\n",
    "Ct1.place(x=10, y=150)\n",
    "Ct1_value = Entry(root, width=30)\n",
    "Ct1_value.place(x=170, y=150)\n",
    "Ct1_value.config(validate=\"all\", validatecommand=(root.register(validation_p),\"%P\"), invalidcommand=(root.register(incorrect),\"%W\"))\n",
    "cr=Label(root, text=\"0 - 15\", bg=\"light gray\")\n",
    "cr.place(x=390, y=150)\n",
    "\n",
    "Ct5 = Label(root, text=\"Verbal learning trial 5\", bg=\"light gray\")\n",
    "Ct5.place(x=10, y=170)\n",
    "Ct5_value = Entry(root, width=30)\n",
    "Ct5_value.place(x=170, y=170)\n",
    "Ct5_value.config(validate=\"all\", validatecommand=(root.register(validation_p),\"%P\"), invalidcommand=(root.register(incorrect),\"%W\"))\n",
    "cr5=Label(root, text=\"0 - 15\", bg=\"light gray\")\n",
    "cr5.place(x=390, y=170)\n",
    "\n",
    "Ct = Label(root, text=\"Verbal learning total\", bg=\"light gray\")\n",
    "Ct.place(x=10, y=190)\n",
    "Ct_value = Entry(root, width=30)\n",
    "Ct_value.place(x=170, y=190)\n",
    "Ct_value.config(validate=\"all\", validatecommand=(root.register(validation_p),\"%P\"), invalidcommand=(root.register(incorrect),\"%W\"))\n",
    "ctr=Label(root, text=\"0 - 75\", bg=\"light gray\")\n",
    "ctr.place(x=390, y=190)\n",
    "\n",
    "Cd= Label(root, text=\"Verbal learning delayed\", bg=\"light gray\")\n",
    "Cd.place(x=10, y=210)\n",
    "Cd_value = Entry(root, width=30)\n",
    "Cd_value.place(x=170, y=210)\n",
    "Cd_value.config(validate=\"all\", validatecommand=(root.register(validation_p),\"%P\"), invalidcommand=(root.register(incorrect),\"%W\"))\n",
    "cdr=Label(root, text=\"0 - 15\", bg=\"light gray\")\n",
    "cdr.place(x=390, y=210)    \n",
    "    \n",
    "df = Label(root, text=\"Digit forward\", bg=\"light gray\")\n",
    "df.place(x=10, y=230)\n",
    "df_value = Entry(root, width=30)\n",
    "df_value.place(x=170, y=230)\n",
    "df_value.config(validate=\"all\", validatecommand=(root.register(validation_p),\"%P\"), invalidcommand=(root.register(incorrect),\"%W\"))\n",
    "dr=Label(root, text=\"0 - 20\", bg=\"light gray\")\n",
    "dr.place(x=390, y=230)    \n",
    "\n",
    "db = Label(root, text=\"Digit backward\", bg=\"light gray\")\n",
    "db.place(x=10, y=250)\n",
    "db_value = Entry(root, width=30)\n",
    "db_value.place(x=170, y=250)\n",
    "db_value.config(validate=\"all\", validatecommand=(root.register(validation_p),\"%P\"), invalidcommand=(root.register(incorrect),\"%W\"))\n",
    "dbr=Label(root, text=\"0 - 16\", bg=\"light gray\")\n",
    "dbr.place(x=390, y=250) \n",
    "\n",
    "tmta = Label(root, text=\"Trail Making Test A\", bg=\"light gray\")\n",
    "tmta.place(x=10, y=270)\n",
    "tmta_value = Entry(root, width=30)\n",
    "tmta_value.place(x=170, y=270)\n",
    "tmta_value.config(validate=\"all\", validatecommand=(root.register(validation_p),\"%P\"), invalidcommand=(root.register(incorrect),\"%W\"))\n",
    "tr=Label(root, text=\"0 - 300\", bg=\"light gray\")\n",
    "tr.place(x=390, y=270)\n",
    "\n",
    "tmtb = Label(root, text=\"Trail Making Test B\", bg=\"light gray\")\n",
    "tmtb.place(x=10, y=290)\n",
    "tmtb_value = Entry(root, width=30)\n",
    "tmtb_value.place(x=170, y=290)\n",
    "tmtb_value.config(validate=\"all\", validatecommand=(root.register(validation_p),\"%P\"), invalidcommand=(root.register(incorrect),\"%W\"))\n",
    "tbr=Label(root, text=\"0 - 300\", bg=\"light gray\")\n",
    "tbr.place(x=390, y=290)\n",
    "\n",
    "Rc = Label(root, text=\"Complex figure copy\", bg=\"light gray\")\n",
    "Rc.place(x=10, y=310)\n",
    "Rc_value = Entry(root, width=30)\n",
    "Rc_value.place(x=170, y=310)\n",
    "Rc_value.config(validate=\"all\", validatecommand=(root.register(validation_p),\"%P\"), invalidcommand=(root.register(incorrect),\"%W\"))\n",
    "rcr=Label(root, text=\"0 - 34\", bg=\"light gray\")\n",
    "rcr.place(x=390, y=310)\n",
    "\n",
    "Rd = Label(root, text=\"Complex figure delayed\", bg=\"light gray\")\n",
    "Rd.place(x=10, y=330)\n",
    "Rd_value = Entry(root, width=30)\n",
    "Rd_value.place(x=170, y=330)\n",
    "Rd_value.config(validate=\"all\", validatecommand=(root.register(validation_p),\"%P\"), invalidcommand=(root.register(incorrect),\"%W\"))\n",
    "rdr=Label(root, text=\"0 - 34\", bg=\"light gray\")\n",
    "rdr.place(x=390, y=330)\n",
    "\n",
    "Fs = Label(root, text=\"Semantic fluency\", bg=\"light gray\")\n",
    "Fs.place(x=10, y=350)\n",
    "Fs_value = Entry(root, width=30)\n",
    "Fs_value.place(x=170, y=350)\n",
    "Fs_value.config(validate=\"all\", validatecommand=(root.register(validation_p),\"%P\"), invalidcommand=(root.register(incorrect),\"%W\"))\n",
    "fsr=Label(root, text=\"0 - 60\", bg=\"light gray\")\n",
    "fsr.place(x=390, y=350)\n",
    "\n",
    "Fp = Label(root, text=\"Phonemic fluency\", bg=\"light gray\")\n",
    "Fp.place(x=10, y=370)\n",
    "Fp_value = Entry(root, width=30)\n",
    "Fp_value.place(x=170, y=370)\n",
    "Fp_value.config(validate=\"all\", validatecommand=(root.register(validation_p),\"%P\"), invalidcommand=(root.register(incorrect),\"%W\"))\n",
    "fpr=Label(root, text=\"0 - 60\", bg=\"light gray\")\n",
    "fpr.place(x=390, y=370)\n",
    "\n",
    "W = Label(root, text=\"WCST perseverative error\", bg=\"light gray\")\n",
    "W.place(x=10, y=390)\n",
    "W_value = Entry(root, width=30)\n",
    "W_value.place(x=170, y=390)\n",
    "W_value.config(validate=\"all\", validatecommand=(root.register(validation_p),\"%P\"), invalidcommand=(root.register(incorrect),\"%W\"))\n",
    "wr=Label(root, text=\"0 - 100\", bg=\"light gray\")\n",
    "wr.place(x=390, y=390)    \n",
    "    \n",
    "bf = Label(root, text=\"Biochemical factors\", bg=\"light gray\", fg=\"dark red\", font=(\"arial bold\", 10))\n",
    "bf.place(x=10, y=420)\n",
    "#bf1 = Label(root, text=\"Collected with KitElisa.\",fg=\"black\", bg=\"light green\", font=(\"arial italic\",8))\n",
    "#bf1.place(x=170, y=420)\n",
    "bf2 = Label(root, text=\"Serum levels range\",fg=\"dark red\", bg=\"light gray\", font=(\"arial italic\",8))\n",
    "bf2.place(x=370, y=420)\n",
    "\n",
    "bdnf = Label(root, text=\"BDNF\", bg=\"light gray\")\n",
    "bdnf.place(x=10, y=440)\n",
    "bdnf_value = Entry(root, width=30)\n",
    "bdnf_value.place(x=170, y=440)\n",
    "bdnf_value.config(validate=\"all\", validatecommand=(root.register(on_float_entry_validate),\"%P\"), invalidcommand=(root.register(incorrect),\"%W\"))\n",
    "bdr=Label(root, text=\"- 0.2 - 8.7\", bg=\"light gray\")\n",
    "bdr.place(x=380, y=440)  \n",
    "    \n",
    "pcc = Label(root, text=\"Proteyn carbonil\", bg=\"light gray\")\n",
    "pcc.place(x=10, y=460)\n",
    "pcc_value = Entry(root, width=30)\n",
    "pcc_value.place(x=170, y=460)\n",
    "pcc_value.config(validate=\"all\", validatecommand=(root.register(on_float_entry_validate),\"%P\"), invalidcommand=(root.register(incorrect),\"%W\"))\n",
    "pcr=Label(root, text=\"0.1 - 3.4\", bg=\"light gray\")\n",
    "pcr.place(x=387, y=460)   \n",
    "    \n",
    "gl = Label(root, text=\"Glutathione\", bg=\"light gray\")\n",
    "gl.place(x=10, y=480)\n",
    "gl_value = Entry(root, width=30)\n",
    "gl_value.place(x=170, y=480)\n",
    "gl_value.config(validate=\"all\", validatecommand=(root.register(on_float_entry_validate),\"%P\"), invalidcommand=(root.register(incorrect),\"%W\"))\n",
    "br=Label(root, text=\"0 - 12.5\", bg=\"light gray\")\n",
    "br.place(x=390, y=480) \n",
    "\n",
    "cl = Label(root, text=\"Clinical information\", bg=\"light gray\", fg=\"dark red\", font=(\"arial bold\", 10))\n",
    "cl.place(x=10, y=510)\n",
    "cl1 = Label(root, text=\"\",fg=\"white\", bg=\"light gray\")\n",
    "cl1.place(x=170, y=510)\n",
    "\n",
    "\n",
    "#med_psy_no=Radiobutton(root, text=\"No\", value=0, variable=med_psy_value).grid(row=5, column=2)\n",
    "#med_psy_yes=Radiobutton(root, text=\"Yes\", value=1, variable=med_psy_value).grid(row=5, column=3)\n",
    "#med_psy_value = Entry(root, width=30)\n",
    "#med_psy_value.grid(row=5, column=2)\n",
    "\n",
    "cst = Label(root, text=\"Weeks in clinical stability\", bg=\"light gray\")\n",
    "cst.place(x=10, y=530)\n",
    "clstab_value = Entry(root, width=30)\n",
    "clstab_value.place(x=170, y=530)\n",
    "clstab_value.config(validate=\"all\", validatecommand=(root.register(validation_p),\"%P\"), invalidcommand=(root.register(incorrect),\"%W\"))\n",
    "\n",
    "depr = Label(root, text=\"Depressive episodes\", bg=\"light gray\")\n",
    "depr.place(x=10, y=550)\n",
    "depre_value = Entry(root, width=30)\n",
    "depre_value.place(x=170, y=550)\n",
    "depre_value.config(validate=\"all\", validatecommand=(root.register(validation_p),\"%P\"), invalidcommand=(root.register(incorrect),\"%W\"))\n",
    "\n",
    "csi = Label(root, text=\"Current sick leave\", bg=\"light gray\")\n",
    "csi.place(x=10, y=570)\n",
    "csi_combo = ttk.Combobox(root, textvariable=csi_value,values=[\"No\",\"Yes\"])\n",
    "csi_combo.place(x=170, y=570)\n",
    "\n",
    "med_psy = Label(root, text=\"Medical Psychiatric History\", bg=\"light gray\")\n",
    "med_psy.place(x=10, y=590)\n",
    "med_combo=ttk.Combobox(root, textvariable=med_psy_value,values=[\"No\",\"Yes\"])\n",
    "med_combo.place(x=170, y=590)\n",
    "\n",
    "sp = Label(root, text=\"Seasonal pattern\", bg=\"light gray\")\n",
    "sp.place(x=10, y=610)\n",
    "sp_combo = ttk.Combobox(root, textvariable=sp_value,values=[\"No\",\"Yes\"])\n",
    "sp_combo.place(x=170, y=610)\n",
    "\n",
    "\n",
    "\n",
    "#Radiobutton(root, text=\"Male\", value=0)\n",
    "#Radiobutton(root, text=\"Female\", value=1)\n",
    "   \n",
    "    # grid method is used for placing the widgets at respective positions\n",
    "    # in table like structure .\n",
    "#def submit():\n",
    "   # print(\"Predicting value, please wait...\")\n",
    "    # create a Submit Button and place into the root window\n",
    "messagebox.showinfo(\"Manual\", \"Values for each factor must be entered next to its label. \\n If no information is given about any variable, leave the field in blank: more than 2 missing values will decrease the accuracy aproximately 20%. \\n  \\n Press the \\\"submit\\\" button to see the prediction once the information is filled. \\n \\n For further explanation, a brieve tutorial about its functioning can be seen in the following link: https://youtu.be/bKM0n_Nun8w\")\n",
    "    \n",
    "submit = Button(root, text=\"Submit\", fg=\"white\", bg=\"dark red\", command=validate)\n",
    "submit.place(x=200, y=650)\n",
    "\n",
    "#root.iconbitmap(r\"C:\\Users\\csc\\Documents\\GEA\\4t-GEA\\TFG\\python_TFG\\Logo_peuc.jpg\")\n",
    "#uab=PhotoImage(file=r\"C:\\Users\\csc\\Documents\\GEA\\4t-GEA\\TFG\\python_TFG\\OIP.png\")\n",
    "#Label(root,image=uab,bg='grey').pack\n",
    "  \n",
    "    # start the GUI\n",
    "root.mainloop()\n"
   ]
  },
  {
   "cell_type": "markdown",
   "metadata": {},
   "source": [
    "### Representació gràfica distribució tests cognitius"
   ]
  },
  {
   "cell_type": "code",
   "execution_count": 73,
   "metadata": {},
   "outputs": [],
   "source": [
    "memory=pd.read_csv(\"memory.csv\")\n",
    "memo=pd.read_csv(\"memo.csv\")\n",
    "speed=pd.read_csv(\"speed.csv\")\n",
    "attention=pd.read_csv(\"attention.csv\")\n",
    "executive=pd.read_csv(\"executive.csv\")\n",
    "lleng=pd.read_csv(\"lleng.csv\")"
   ]
  },
  {
   "cell_type": "code",
   "execution_count": 86,
   "metadata": {},
   "outputs": [],
   "source": [
    "import seaborn as sns\n",
    "sns.set_theme(style=\"whitegrid\", palette=\"bright\")"
   ]
  },
  {
   "cell_type": "code",
   "execution_count": 80,
   "metadata": {},
   "outputs": [
    {
     "data": {
      "text/plain": [
       "Text(0.15, 1.05, 'A   MEMÒRIA VERBAL')"
      ]
     },
     "execution_count": 80,
     "metadata": {},
     "output_type": "execute_result"
    },
    {
     "data": {
      "image/png": "[encoded data removed]",
      "text/plain": [
       "<Figure size 576x288 with 1 Axes>"
      ]
     },
     "metadata": {},
     "output_type": "display_data"
    }
   ],
   "source": [
    "sns.set(rc={\"figure.figsize\":(8, 4)})\n",
    "sns.set_theme(style=\"whitegrid\")\n",
    "\n",
    "# Initialize the figure\n",
    "f, ax = plt.subplots()\n",
    "sns.despine(bottom=True, left=True)\n",
    "\n",
    "# Show each observation with a scatterplot\n",
    "sns.stripplot(x=\"test\", y=\"tests\", hue=\"cat\",\n",
    "              data=memory, dodge=True, alpha=.5, zorder=1)#, palette=\"pastel\")\n",
    "\n",
    "# Show the conditional means\n",
    "sns.pointplot(x=\"test\", y=\"tests\", hue=\"cat\",\n",
    "              data=memory, dodge=.532, join=False, palette=\"dark\",\n",
    "              markers=\"d\", scale=.75, ci=None)\n",
    "# Improve the legend \n",
    "handles, labels = ax.get_legend_handles_labels()\n",
    "ax.legend( handles[:3],labels[3:],\n",
    "          handletextpad=0, columnspacing=1,\n",
    "           bbox_to_anchor=(0.85, -0.15), ncol=3, frameon=True)\n",
    "ax.set(ylabel=\"\", xlabel=\"\")\n",
    "ax.set_title('A   MEMÒRIA VERBAL', fontsize = 13, y =1.05, x=0.15)"
   ]
  },
  {
   "cell_type": "code",
   "execution_count": 81,
   "metadata": {},
   "outputs": [
    {
     "data": {
      "text/plain": [
       "Text(0.15, 1.05, 'B   MEMÒRIA VISUAL')"
      ]
     },
     "execution_count": 81,
     "metadata": {},
     "output_type": "execute_result"
    },
    {
     "data": {
      "image/png": "[encoded data removed]",
      "text/plain": [
       "<Figure size 576x288 with 1 Axes>"
      ]
     },
     "metadata": {},
     "output_type": "display_data"
    }
   ],
   "source": [
    "sns.set_theme(style=\"whitegrid\")\n",
    "\n",
    "# Initialize the figure\n",
    "f, ax = plt.subplots()\n",
    "sns.despine(bottom=True, left=True)\n",
    "\n",
    "# Show each observation with a scatterplot\n",
    "sns.stripplot(x=\"test\", y=\"tests\", hue=\"cat\",\n",
    "              data=memo, dodge=True, alpha=.5, zorder=1)#, palette=\"pastel\")\n",
    "\n",
    "# Show the conditional means\n",
    "sns.pointplot(x=\"test\", y=\"tests\", hue=\"cat\",\n",
    "              data=memo, dodge=.532, join=False, palette=\"dark\",\n",
    "              markers=\"d\", scale=.75, ci=None)\n",
    "\n",
    "# Improve the legend \n",
    "handles, labels = ax.get_legend_handles_labels()\n",
    "ax.legend( handles[:3],labels[3:],\n",
    "          handletextpad=0, columnspacing=1,\n",
    "           bbox_to_anchor=(0.85, -0.15), ncol=3, frameon=True)\n",
    "ax.set(ylabel=\"\", xlabel=\"\")\n",
    "ax.set_title('B   MEMÒRIA VISUAL', fontsize = 13, y =1.05, x=0.15)"
   ]
  },
  {
   "cell_type": "code",
   "execution_count": 82,
   "metadata": {},
   "outputs": [
    {
     "data": {
      "text/plain": [
       "Text(0.15, 1.05, 'C   ATENCIÓ')"
      ]
     },
     "execution_count": 82,
     "metadata": {},
     "output_type": "execute_result"
    },
    {
     "data": {
      "image/png": "[encoded data removed]",
      "text/plain": [
       "<Figure size 576x288 with 1 Axes>"
      ]
     },
     "metadata": {},
     "output_type": "display_data"
    }
   ],
   "source": [
    "sns.set_theme(style=\"whitegrid\")\n",
    "\n",
    "# Initialize the figure\n",
    "f, ax = plt.subplots()\n",
    "sns.despine(bottom=True, left=True)\n",
    "\n",
    "# Show each observation with a scatterplot\n",
    "sns.stripplot(x=\"test\", y=\"tests\", hue=\"cat\",\n",
    "              data=attention, dodge=True, alpha=.5, zorder=1)#, palette=\"pastel\")\n",
    "\n",
    "# Show the conditional means\n",
    "sns.pointplot(x=\"test\", y=\"tests\", hue=\"cat\",\n",
    "              data=attention, dodge=.532, join=False, palette=\"dark\",\n",
    "              markers=\"d\", scale=.75, ci=None)\n",
    "\n",
    "# Improve the legend \n",
    "handles, labels = ax.get_legend_handles_labels()\n",
    "ax.legend( handles[:3],labels[3:],\n",
    "          handletextpad=0, columnspacing=1,\n",
    "           bbox_to_anchor=(0.85, -0.15), ncol=3, frameon=True)\n",
    "ax.set(ylabel=\"\", xlabel=\"\")\n",
    "ax.set_title('C   ATENCIÓ', fontsize = 13, y =1.05, x=0.15)"
   ]
  },
  {
   "cell_type": "code",
   "execution_count": 83,
   "metadata": {},
   "outputs": [
    {
     "data": {
      "text/plain": [
       "Text(0.15, 1.05, 'D   FUNCIONS EXECUTIVES')"
      ]
     },
     "execution_count": 83,
     "metadata": {},
     "output_type": "execute_result"
    },
    {
     "data": {
      "image/png": "[encoded data removed]",
      "text/plain": [
       "<Figure size 504x288 with 1 Axes>"
      ]
     },
     "metadata": {},
     "output_type": "display_data"
    }
   ],
   "source": [
    "sns.set(rc={\"figure.figsize\":(7, 4)})\n",
    "sns.set_theme(style=\"whitegrid\")\n",
    "\n",
    "# Initialize the figure\n",
    "f, ax = plt.subplots()\n",
    "sns.despine(bottom=True, left=True)\n",
    "\n",
    "# Show each observation with a scatterplot\n",
    "sns.stripplot(x=\"test\", y=\"tests\", hue=\"cat\",\n",
    "              data=executive, dodge=True, alpha=.5, zorder=1)#, palette=\"pastel\")\n",
    "\n",
    "# Show the conditional means\n",
    "sns.pointplot(x=\"test\", y=\"tests\", hue=\"cat\",\n",
    "              data=executive, dodge=.532, join=False, palette=\"dark\",\n",
    "              markers=\"d\", scale=.75, ci=None)\n",
    "\n",
    "# Improve the legend \n",
    "handles, labels = ax.get_legend_handles_labels()\n",
    "ax.legend( handles[:3],labels[3:],\n",
    "          handletextpad=0, columnspacing=1,\n",
    "           bbox_to_anchor=(0.85, -0.15), ncol=3, frameon=True)\n",
    "ax.set(ylabel=\"\", xlabel=\"\")\n",
    "ax.set_title('D   FUNCIONS EXECUTIVES', fontsize = 13, y =1.05, x=0.15)"
   ]
  },
  {
   "cell_type": "code",
   "execution_count": 84,
   "metadata": {
    "scrolled": true
   },
   "outputs": [
    {
     "data": {
      "text/plain": [
       "Text(0.15, 1.05, 'E   LLENGUATGE')"
      ]
     },
     "execution_count": 84,
     "metadata": {},
     "output_type": "execute_result"
    },
    {
     "data": {
      "image/png": "[encoded data removed]",
      "text/plain": [
       "<Figure size 504x288 with 1 Axes>"
      ]
     },
     "metadata": {},
     "output_type": "display_data"
    }
   ],
   "source": [
    "sns.set_theme(style=\"whitegrid\")\n",
    "\n",
    "# Initialize the figure\n",
    "f, ax = plt.subplots()\n",
    "sns.despine(bottom=True, left=True)\n",
    "\n",
    "# Show each observation with a scatterplot\n",
    "sns.stripplot(x=\"test\", y=\"tests\", hue=\"cat\",\n",
    "              data=lleng, dodge=True, alpha=.5, zorder=1)#, palette=\"pastel\")\n",
    "\n",
    "# Show the conditional means\n",
    "sns.pointplot(x=\"test\", y=\"tests\", hue=\"cat\",\n",
    "              data=lleng, dodge=.532, join=False, palette=\"dark\",\n",
    "              markers=\"d\", scale=.75, ci=None)\n",
    "\n",
    "# Improve the legend \n",
    "handles, labels = ax.get_legend_handles_labels()\n",
    "ax.legend( handles[:3],labels[3:],\n",
    "          handletextpad=0, columnspacing=1,\n",
    "           bbox_to_anchor=(0.85, -0.15), ncol=3, frameon=True)\n",
    "ax.set(ylabel=\"\", xlabel=\"\")\n",
    "ax.set_title('E   LLENGUATGE', fontsize = 13, y =1.05, x=0.15)"
   ]
  },
  {
   "cell_type": "code",
   "execution_count": 85,
   "metadata": {},
   "outputs": [
    {
     "data": {
      "text/plain": [
       "Text(0.15, 1.05, 'F   VELOCITAT PROCESSAMENT')"
      ]
     },
     "execution_count": 85,
     "metadata": {},
     "output_type": "execute_result"
    },
    {
     "data": {
      "image/png": "[encoded data removed]",
      "text/plain": [
       "<Figure size 504x288 with 1 Axes>"
      ]
     },
     "metadata": {},
     "output_type": "display_data"
    }
   ],
   "source": [
    "sns.set_theme(style=\"whitegrid\")\n",
    "\n",
    "# Initialize the figure\n",
    "f, ax = plt.subplots()\n",
    "sns.despine(bottom=True, left=True)\n",
    "\n",
    "# Show each observation with a scatterplot\n",
    "sns.stripplot(x=\"test\", y=\"tests\", hue=\"cat\",\n",
    "              data=speed, dodge=True, alpha=.5, zorder=1)#, palette=\"pastel\")\n",
    "\n",
    "\n",
    "# Show the conditional means\n",
    "sns.pointplot(x=\"test\", y=\"tests\", hue=\"cat\",\n",
    "              data=speed, dodge=.532, join=False, palette=\"dark\",\n",
    "              markers=\"d\", scale=.75, ci=None)\n",
    "\n",
    "# Improve the legend \n",
    "handles, labels = ax.get_legend_handles_labels()\n",
    "ax.legend( handles[:3],labels[3:],\n",
    "          handletextpad=0, columnspacing=1,\n",
    "           bbox_to_anchor=(0.85, -0.15), ncol=3, frameon=True)\n",
    "ax.set(ylabel=\"\", xlabel=\"\")\n",
    "ax.set_title('F   VELOCITAT PROCESSAMENT', fontsize = 13, y =1.05, x=0.15)"
   ]
  }
 ],
 "metadata": {
  "kernelspec": {
   "display_name": "Python 3",
   "language": "python",
   "name": "python3"
  },
  "language_info": {
   "codemirror_mode": {
    "name": "ipython",
    "version": 3
   },
   "file_extension": ".py",
   "mimetype": "text/x-python",
   "name": "python",
   "nbconvert_exporter": "python",
   "pygments_lexer": "ipython3",
   "version": "3.8.8"
  }
 },
 "nbformat": 4,
 "nbformat_minor": 4
}
